{
 "cells": [
  {
   "cell_type": "markdown",
   "metadata": {},
   "source": [
    "### Include Library"
   ]
  },
  {
   "cell_type": "code",
   "execution_count": 1,
   "metadata": {},
   "outputs": [],
   "source": [
    "# library for cap_f1\n",
    "from cap_f1 import *\n",
    "\n",
    "# library for BLUE, METEOR, ROUGE\n",
    "import evaluate\n",
    "\n",
    "%load_ext autoreload\n",
    "%autoreload 2"
   ]
  },
  {
   "cell_type": "markdown",
   "metadata": {},
   "source": [
    "### Load Data"
   ]
  },
  {
   "cell_type": "code",
   "execution_count": 2,
   "metadata": {},
   "outputs": [
    {
     "name": "stdout",
     "output_type": "stream",
     "text": [
      "Load caption file...\n"
     ]
    }
   ],
   "source": [
    "print(\"Load caption file...\")\n",
    "\n",
    "# features that we need to extract from the original dataset\n",
    "keys = [\"file_name\", \"human_captions\", \"model_captions\"]\n",
    "org_caption_dataset = read_json(\"test_org.json\", keys)\n",
    "\n",
    "for item in org_caption_dataset:\n",
    "    # Filter out human captions\n",
    "    human_captions = [\n",
    "        hc[\"caption\"]            \n",
    "        for hc in item[\"human_captions\"]\n",
    "        if hc[\"caption\"] != \"Quality issues are too severe to recognize visual content.\"\n",
    "    ]\n",
    "    for mc in item[\"model_captions\"]:\n",
    "        model_name = mc[\"model_name\"]\n",
    "        model_caption = mc[\"caption\"]"
   ]
  },
  {
   "cell_type": "markdown",
   "metadata": {},
   "source": [
    "### Parse Caption into Atomic Statements"
   ]
  },
  {
   "cell_type": "code",
   "execution_count": 3,
   "metadata": {},
   "outputs": [
    {
     "name": "stdout",
     "output_type": "stream",
     "text": [
      "Generating atomic statements using gpt-4o...\n"
     ]
    }
   ],
   "source": [
    "print(\"Generating atomic statements using gpt-4o...\")\n",
    "T_atomics, g_atomics  = generate_atomic_statement(org_caption_dataset)"
   ]
  },
  {
   "cell_type": "code",
   "execution_count": 4,
   "metadata": {},
   "outputs": [
    {
     "name": "stdout",
     "output_type": "stream",
     "text": [
      "Saved JSON to: parsed_caption.json\n"
     ]
    }
   ],
   "source": [
    "# Save the parsing results\n",
    "save_results_json(output_path=\"parsed_caption.json\", org_dataset=org_caption_dataset, T_atomics=T_atomics, g_atomics=g_atomics)\n",
    "\n",
    "# Read Atomic Caption Dataset If Needed\n",
    "keys = [\"file_name\", \"human_captions\", \"model_captions\", \"evaluation\"]\n",
    "parsed_dataset = read_json(\"parsed_caption.json\", keys)"
   ]
  },
  {
   "cell_type": "markdown",
   "metadata": {},
   "source": [
    "### Evaluation"
   ]
  },
  {
   "cell_type": "code",
   "execution_count": 5,
   "metadata": {},
   "outputs": [],
   "source": [
    "evaluation = evaluate_matching(human_captions, T_atomics, g_atomics)\n",
    "# evaluation = evaluate_matching_file(parsed_dataset)"
   ]
  },
  {
   "cell_type": "code",
   "execution_count": 6,
   "metadata": {},
   "outputs": [
    {
     "name": "stdout",
     "output_type": "stream",
     "text": [
      "[\n",
      "    [\n",
      "        {\n",
      "            \"model_name\": \"gpt-4o\",\n",
      "            \"recall\": 0.3,\n",
      "            \"precision\": 0.8571428571428571,\n",
      "            \"cap_f1\": 0.4444444444444444\n",
      "        },\n",
      "        {\n",
      "            \"model_name\": \"llama\",\n",
      "            \"recall\": 0.3,\n",
      "            \"precision\": 0.2857142857142857,\n",
      "            \"cap_f1\": 0.2926829268292683\n",
      "        },\n",
      "        {\n",
      "            \"model_name\": \"molmo\",\n",
      "            \"recall\": 0.4444444444444444,\n",
      "            \"precision\": 0.5714285714285714,\n",
      "            \"cap_f1\": 0.5\n",
      "        }\n",
      "    ]\n",
      "]\n"
     ]
    }
   ],
   "source": [
    "output = calculate_cap_f1(evaluation)\n",
    "print(json.dumps(output, indent=4, ensure_ascii=False))"
   ]
  },
  {
   "cell_type": "markdown",
   "metadata": {},
   "source": [
    "## Evaluation \n",
    "### BLUE, METEOR, ROUGE"
   ]
  },
  {
   "cell_type": "code",
   "execution_count": 7,
   "metadata": {},
   "outputs": [
    {
     "name": "stderr",
     "output_type": "stream",
     "text": [
      "[nltk_data] Downloading package wordnet to /home/heoj4/nltk_data...\n",
      "[nltk_data]   Package wordnet is already up-to-date!\n",
      "[nltk_data] Downloading package punkt_tab to /home/heoj4/nltk_data...\n",
      "[nltk_data]   Package punkt_tab is already up-to-date!\n",
      "[nltk_data] Downloading package omw-1.4 to /home/heoj4/nltk_data...\n",
      "[nltk_data]   Package omw-1.4 is already up-to-date!\n"
     ]
    }
   ],
   "source": [
    "bleu = evaluate.load(\"bleu\")\n",
    "meteor = evaluate.load(\"meteor\")\n",
    "rouge = evaluate.load(\"rouge\")"
   ]
  },
  {
   "cell_type": "code",
   "execution_count": 8,
   "metadata": {},
   "outputs": [
    {
     "name": "stdout",
     "output_type": "stream",
     "text": [
      "BLEU: {'bleu': 0.15268470848781107, 'precisions': [0.5, 0.2, 0.125, 0.043478260869565216], 'brevity_penalty': 1.0, 'length_ratio': 2.3636363636363638, 'translation_length': 26, 'reference_length': 11}\n",
      "METEOR: {'meteor': 0.5555555555555556}\n",
      "ROUGE: {'rouge1': 0.4444444444444444, 'rouge2': 0.29411764705882354, 'rougeL': 0.4444444444444444, 'rougeLsum': 0.4444444444444444}\n"
     ]
    }
   ],
   "source": [
    "for item in org_caption_dataset:\n",
    "    # Filter out human captions\n",
    "    human_captions = [\n",
    "        hc[\"caption\"]            \n",
    "        for hc in item[\"human_captions\"]\n",
    "        if hc[\"caption\"] != \"Quality issues are too severe to recognize visual content.\"\n",
    "    ]\n",
    "    for mc in item[\"model_captions\"]:\n",
    "        model_name = mc[\"model_name\"]\n",
    "        model_caption = mc[\"caption\"]\n",
    "\n",
    "    references = [human_captions]\n",
    "    predictions = [model_caption]\n",
    "\n",
    "    print(\"BLEU:\", bleu.compute(predictions=predictions, references=references))\n",
    "    print(\"METEOR:\", meteor.compute(predictions=predictions, references=references))\n",
    "    print(\"ROUGE:\", rouge.compute(predictions=predictions, references=references))"
   ]
  }
 ],
 "metadata": {
  "kernelspec": {
   "display_name": "lic",
   "language": "python",
   "name": "python3"
  },
  "language_info": {
   "codemirror_mode": {
    "name": "ipython",
    "version": 3
   },
   "file_extension": ".py",
   "mimetype": "text/x-python",
   "name": "python",
   "nbconvert_exporter": "python",
   "pygments_lexer": "ipython3",
   "version": "3.10.16"
  }
 },
 "nbformat": 4,
 "nbformat_minor": 2
}
