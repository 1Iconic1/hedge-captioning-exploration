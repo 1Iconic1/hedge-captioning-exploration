{
 "cells": [
  {
   "cell_type": "markdown",
   "metadata": {},
   "source": [
    "### Include Library"
   ]
  },
  {
   "cell_type": "code",
   "execution_count": 8,
   "metadata": {},
   "outputs": [
    {
     "name": "stdout",
     "output_type": "stream",
     "text": [
      "The autoreload extension is already loaded. To reload it, use:\n",
      "  %reload_ext autoreload\n"
     ]
    }
   ],
   "source": [
    "# library for cap_f1\n",
    "from cap_f1 import *\n",
    "from datetime import datetime\n",
    "from multiprocessing import Pool\n",
    "import math\n",
    "import json\n",
    "import glob\n",
    "import os\n",
    "\n",
    "\n",
    "# code for no need for restarting the kernel when python file is updated\n",
    "%load_ext autoreload\n",
    "%autoreload 2"
   ]
  },
  {
   "cell_type": "markdown",
   "metadata": {},
   "source": [
    "### Load Data"
   ]
  },
  {
   "cell_type": "code",
   "execution_count": 9,
   "metadata": {},
   "outputs": [
    {
     "name": "stdout",
     "output_type": "stream",
     "text": [
      "Load caption file...\n"
     ]
    }
   ],
   "source": [
    "print(\"Load caption file...\")\n",
    "\n",
    "# for filename\n",
    "now = datetime.now()\n",
    "timestamp = now.strftime(\"%Y-%m-%d_%H-%M\")\n",
    "\n",
    "#create folder to save the results\n",
    "folder_path = f\"results/{timestamp}\"\n",
    "os.makedirs(folder_path, exist_ok=True)\n",
    "\n",
    "# features that we need to extract from the original dataset\n",
    "org_caption_dataset = read_json(\"evaluation_results_5432-images_2025-04-03_11_27_fixed.json\")\n",
    "\n"
   ]
  },
  {
   "cell_type": "code",
   "execution_count": 10,
   "metadata": {},
   "outputs": [
    {
     "name": "stdout",
     "output_type": "stream",
     "text": [
      "24 data, JSON results/2025-04-09_17-07/selected_data.json created with 24 items.\n",
      "24\n"
     ]
    }
   ],
   "source": [
    "# This is for testing\n",
    "select_data(\"results/selected_filename.txt\", \"evaluation_results_5432-images_2025-04-03_11_27_fixed.json\", f\"{folder_path}/selected_data.json\")\n",
    "org_caption_dataset = read_json(f\"{folder_path}/selected_data.json\")\n",
    "print(len(org_caption_dataset))\n",
    "# org_caption_dataset = org_caption_dataset[:1]\n",
    "# all_human_captions = all_human_captions[:1]\n",
    "\n",
    "all_human_captions=[]\n",
    "for item in org_caption_dataset:\n",
    "    # Filter out human captions\n",
    "    human_captions = [\n",
    "        hc[\"caption\"]            \n",
    "        for hc in item[\"human_captions\"]\n",
    "        if hc[\"caption\"] != \"Quality issues are too severe to recognize visual content.\"\n",
    "    ]\n",
    "    all_human_captions.append(human_captions)"
   ]
  },
  {
   "cell_type": "markdown",
   "metadata": {},
   "source": [
    "### Run Multi Processors"
   ]
  },
  {
   "cell_type": "code",
   "execution_count": 11,
   "metadata": {},
   "outputs": [],
   "source": [
    "def process_batch(start_idx, end_idx, org_caption_dataset, all_human_captions, folder_path, timestamp, chunk_id):\n",
    "    subset = org_caption_dataset[start_idx:end_idx]\n",
    "    LIMIT = len(subset)\n",
    "    human_subset = all_human_captions[start_idx:end_idx]\n",
    "    print(human_subset)\n",
    "\n",
    "    # Step 1: Parse atomics\n",
    "    T_atomics, g_atomics, parsed_T = generate_atomic_statement(subset, limit=LIMIT)\n",
    "    save_results_json(output_path=f\"{folder_path}/parsed_caption_{timestamp}_chunk{chunk_id}.json\",\n",
    "                      org_dataset=subset, T_atomics=T_atomics, g_atomics=g_atomics, parsed_T= parsed_T, T_org=human_subset, limit=LIMIT)\n",
    "\n",
    "    # Step 2: Match human & generated\n",
    "    metadata = evaluate_matching(human_subset, T_atomics, g_atomics)\n",
    "    save_results_json(output_path=f\"{folder_path}/recall_precision_{timestamp}_chunk{chunk_id}.json\",\n",
    "                      update_existing=f\"{folder_path}/parsed_caption_{timestamp}_chunk{chunk_id}.json\",\n",
    "                      metadata=metadata, limit=LIMIT)\n",
    "\n",
    "    # Step 3: Cap F1\n",
    "    evaluation = calculate_cap_f1(metadata)\n",
    "    save_results_json(output_path=f\"{folder_path}/final_{timestamp}_chunk{chunk_id}.json\",\n",
    "                      update_existing=f\"{folder_path}/recall_precision_{timestamp}_chunk{chunk_id}.json\",\n",
    "                      evaluations=evaluation, limit=LIMIT)\n",
    "\n",
    "def run_parallel_processing(org_caption_dataset, all_human_captions, folder_path, timestamp, num_workers=32):\n",
    "    total = len(org_caption_dataset)\n",
    "    chunk_size = math.ceil(total / num_workers)\n",
    "\n",
    "    with Pool(processes=num_workers) as pool:\n",
    "        jobs = []\n",
    "        for i in range(num_workers):\n",
    "            start_idx = i * chunk_size\n",
    "            end_idx = min((i + 1) * chunk_size, total)\n",
    "            jobs.append(pool.apply_async(process_batch, (start_idx, end_idx, org_caption_dataset, all_human_captions, folder_path, timestamp, i)))\n",
    "        \n",
    "        for job in jobs:\n",
    "            job.get()"
   ]
  },
  {
   "cell_type": "code",
   "execution_count": 12,
   "metadata": {},
   "outputs": [
    {
     "name": "stdout",
     "output_type": "stream",
     "text": [
      "[['A can of Coca Cola on a counter is shown for when one can use a nice, cold drink.', 'A black can of Coca Cola Zero calorie soda is on the counter near the coffee maker.', 'A kitchen counter the various items on top including a can of Coca-Cola, metal containers, and a teapot.', 'a black tin of Coca Cola placed on a black surface', 'Black counter with canisters, kettle and can of soda.']]\n",
      "[['A certificate showing a flaming torch insignia, with the text \"TOAD Training\"', 'A certificate of Toad Training from a university that is not able to be read.', 'A piece of paper with a torch on it and a name tag.', 'A sheet of paper that has a logo on it and the words Toad Training.', 'A flyer for Toad Training sponsored by a university']][['A copy of Grand theft auto vice city for PlayStation 2.', 'Most of grand theft auto vice, a video game, is shown with the cover of the video game showing a motorcycle in the upper right corner, and an African American man with a gun in the lower right corner, and a few cars on the cover.', 'a PlayStation 2 CD pack of Grand Theft Auto', 'A case of the game grand theft auto vice city on PlayStation 2 is visible.', 'The front of a copy of the Grand Theft Auto Vice City video game.']]\n",
      "\n",
      "[['A can of mountain dew is open and on a floor.', 'An open soda can is sitting on a table, in front of a door.', \"A regular sized can of Mountain Dew missing it's pull tab.\", 'A can of Mountain Dew with the tab opener removed.', 'Image contain a partial part of a mountain dew cane.']][['the top of a bag of brand new socks', 'A clear bag of socks is sealed with a Ziploc.', \"Reusable clear plastic package of white men's socks.\", 'Resealable plastic packaging, unable to see what the actual product is', 'The socks are packaged in a clear plastic resealable bag with green and blue parts at the top with white lettering.']][['A very wonderful view and worth seeing at all times, my friend', \"A Mini Aquarium box rests upon a person's legs, who is wearing green shorts.\", 'A person is sitting down and has a toy box in their lap.', \"a blue box for a device that is set on someone's lap\", 'A person wearing green shorts holding a toy package.']][['An indistinguishable white bag of food or potatoes stands on a wooden surface next to a paneled wall.', 'A person is holding a beverage in a white and red aluminum can.', 'A canister shaped object is near a wood wall.', 'some type of liquid that is in a container']][[\"a box of Earl Grey tea in a person's hand\", 'the front of a box of Earl Grey tea that has been smashed a little', 'A hand holding a box of Earl Grey tea with an electrical appliance in the background.', 'A hand holding a torn box of Bigelow Earl Grey tea in a kitchen.', 'A smashed box of earl grey tea bags.']]"
     ]
    },
    {
     "name": "stderr",
     "output_type": "stream",
     "text": [
      "  0%|          | 0/1 [00:00<?, ?it/s]"
     ]
    },
    {
     "name": "stdout",
     "output_type": "stream",
     "text": [
      "[['An open package of Anti-diarrheal medication sitting on a counter top.', 'A box of over the counter anti-diarrheal medication from Kroger', 'a small package of Kroger anti-diarrheal medication tablets.', 'a paper pack of Anti Diarrheal to control the symptoms of Diarrhea', 'Kroger brand anti diarrheal medicine on a counter top.']]\n",
      "\n",
      "\n",
      "\n",
      "\n"
     ]
    },
    {
     "name": "stderr",
     "output_type": "stream",
     "text": [
      "  0%|          | 0/1 [00:00<?, ?it/s]"
     ]
    },
    {
     "name": "stdout",
     "output_type": "stream",
     "text": [
      "[['a black TV inside a wood TV cabinet', 'appears to be a picture of a TV screen', 'Brown cabinet with a black TV in it which is showing the news with two men and a woman', 'A TV is showing the current news via Fox', 'A television showing news playing with three spokespersons.']][['A cover of a book that has a picture of an older man and the title of the book and author.', 'Book with a picture of a oval with a man in the center.', 'A picture of a man is printed on the book cover.', 'a picture of Charles Dickens a Christmas carol.', 'A portion of the cover of the book \"A Christmas Carol\"']]\n"
     ]
    },
    {
     "name": "stderr",
     "output_type": "stream",
     "text": [
      "  0%|          | 0/1 [00:00<?, ?it/s]"
     ]
    },
    {
     "name": "stdout",
     "output_type": "stream",
     "text": [
      "[['A person is holding a package of Gerber baby food.', 'A hand holding a Gerber baby food package with meat and apples pictures on it.', 'a package of gerber apples and chicken baby food', 'A package of individual servings of baby food.', 'Someone is holding a pack of 2 Gerber baby food with a table and chairs in the background.']]\n",
      "[['Appears to  be a picture of a flyer', 'Package from a bamboo stick style scent diffuser showing part of the directions for use.', 'A hand holding a box that looks like a vase with sticks sticking out of it.', 'A hand holding a box with another white paper next to it describing a reed diffuser.', 'A person holding a box with a gold colored round object on it']]\n"
     ]
    },
    {
     "name": "stderr",
     "output_type": "stream",
     "text": [
      "  0%|          | 0/1 [00:00<?, ?it/s]"
     ]
    },
    {
     "name": "stdout",
     "output_type": "stream",
     "text": [
      "\n"
     ]
    },
    {
     "name": "stderr",
     "output_type": "stream",
     "text": [
      "  0%|          | 0/1 [00:00<?, ?it/s]"
     ]
    },
    {
     "name": "stdout",
     "output_type": "stream",
     "text": [
      "[['PSP UMD disc of a game called Fate featuring two anime characters', 'A disc with a cartoon image drawn on top.', 'A close up view of a DVD in a container.', 'A blurry photo of a round item that could be a CD or DVD, but it is difficult to tell.']]\n",
      "[['A package of cooked lunch meat, either turkey or ham.', 'A close up of a plastic container with a sandwich on the cover.', 'Packaging for sliced deli meat in a red plastic container.', 'A close up image of a package depicting a sandwich with lunch meat, lettuce, and bread.', 'Close up of a container of deli turkey meat in a plastic tub.']][['A brown box of aftershave product on a round table.', 'A box of aftershave is sitting on the table.', \"A brown and yellow box of a men's grooming product sitting on an orange table.\"]][['A package made of paper material with a label that says \"From\" and \"To\".', 'Packaging from something containing fresh organic fruit and looks like is maybe for gifting, as it has \"to\" and \"from\" written on it', 'A gift of a fresh organic fruit product.', 'A to and from label is on a package of food.']]"
     ]
    },
    {
     "name": "stderr",
     "output_type": "stream",
     "text": [
      "  0%|          | 0/1 [00:00<?, ?it/s]"
     ]
    },
    {
     "name": "stdout",
     "output_type": "stream",
     "text": [
      "[['Someone holding a can with the background of a wall and heater.', 'a person is holding a tin of consumable with nutritional facts written on it', 'Part of a nutrition label on a can held up near a large wall heater.', 'A hand is holding a can showing the nutrition facts.', 'A hand holding an aluminum can and a toy sitting on the gray carpet.']]\n"
     ]
    },
    {
     "name": "stderr",
     "output_type": "stream",
     "text": [
      "  0%|          | 0/1 [00:00<?, ?it/s]"
     ]
    },
    {
     "name": "stdout",
     "output_type": "stream",
     "text": [
      "\n",
      "\n",
      "[['the back of a supplement bottle showing a barcode and directions', 'The yellow label on the back of a dressing container displays the directions.', 'Label from a small bottle showing contents or warnings', 'A label on a clear container is orange, white, and blue.', 'Here is a bottle with a orange/yellow label that contains some kind of cleaner for hard surfaces.']]\n"
     ]
    },
    {
     "name": "stderr",
     "output_type": "stream",
     "text": [
      "  0%|          | 0/1 [00:00<?, ?it/s]"
     ]
    },
    {
     "name": "stdout",
     "output_type": "stream",
     "text": [
      "\n"
     ]
    },
    {
     "name": "stderr",
     "output_type": "stream",
     "text": [
      "  0%|          | 0/1 [00:00<?, ?it/s]"
     ]
    },
    {
     "name": "stdout",
     "output_type": "stream",
     "text": [
      "\n",
      "[['Hand holding a drinking cup with red lettering from a restaurant.', 'A plastic soft drink cup with sponsorships written on it in red letters.', 'a person is holding a white cup with ESPN on it', 'A person holding a large sized drinking cup.']]"
     ]
    },
    {
     "name": "stderr",
     "output_type": "stream",
     "text": [
      "  0%|          | 0/1 [00:00<?, ?it/s]"
     ]
    },
    {
     "name": "stdout",
     "output_type": "stream",
     "text": [
      "[['A lunch juice box from Dawn on top of a countertop.', 'a box of dawn brand smooth and juicy drink', 'A container of orange juice laying down on a orange colored surface.', 'A box containing smooth juicy is placed on a   brown surface.', 'A smooth N juicy orange juice by the brand Dawn']]"
     ]
    },
    {
     "name": "stderr",
     "output_type": "stream",
     "text": [
      "  0%|          | 0/1 [00:00<?, ?it/s]"
     ]
    },
    {
     "name": "stdout",
     "output_type": "stream",
     "text": [
      "\n",
      "[['Side of a white bag with food label showing in cigarettes in the background', 'The side of a bag of sugar and an ashtray.', 'an opened package of sugar on a counter top with an ashtray full of cigarette butts, and a pot', 'A large bag of chocolates is placed in front of an ashtray for cigarettes.', 'A large, open bag of granulated sugar on a kitchen countertop, next to an ashtray that is half-full of cigarette butts.']]"
     ]
    },
    {
     "name": "stderr",
     "output_type": "stream",
     "text": [
      "  0%|          | 0/1 [00:00<?, ?it/s]"
     ]
    },
    {
     "name": "stdout",
     "output_type": "stream",
     "text": [
      "[['imagine how you would describe this image on the phone to a friend.', 'A box of sandwiches and a bag of food are on a fabric', 'An orange box of some sort of food on the label and a business card to the left of it.', 'Two products of food placed on a couch.', 'a bunch of couches and pillows with bags on it']][['A piece of paper with three columns and typed text interspersed throughout but which is not legible due to the quality of photo.', 'A large white paper with rectangles and writing on it.', 'A worksheet is shown and it is upside down.']]"
     ]
    },
    {
     "name": "stderr",
     "output_type": "stream",
     "text": [
      "  0%|          | 0/1 [00:00<?, ?it/s]"
     ]
    },
    {
     "name": "stdout",
     "output_type": "stream",
     "text": [
      "\n",
      "\n",
      "\n",
      "\n"
     ]
    },
    {
     "name": "stderr",
     "output_type": "stream",
     "text": [
      "100%|██████████| 1/1 [00:07<00:00,  7.03s/it]\n"
     ]
    },
    {
     "name": "stdout",
     "output_type": "stream",
     "text": [
      "Saved JSON to: results/2025-04-09_17-07/parsed_caption_2025-04-09_17-07_chunk22.json\n"
     ]
    },
    {
     "name": "stderr",
     "output_type": "stream",
     "text": [
      "100%|██████████| 1/1 [00:07<00:00,  7.79s/it]\n"
     ]
    },
    {
     "name": "stdout",
     "output_type": "stream",
     "text": [
      "Saved JSON to: results/2025-04-09_17-07/parsed_caption_2025-04-09_17-07_chunk15.json\n"
     ]
    },
    {
     "name": "stderr",
     "output_type": "stream",
     "text": [
      "100%|██████████| 1/1 [00:08<00:00,  8.47s/it]\n"
     ]
    },
    {
     "name": "stdout",
     "output_type": "stream",
     "text": [
      "Saved JSON to: results/2025-04-09_17-07/parsed_caption_2025-04-09_17-07_chunk6.json\n"
     ]
    },
    {
     "name": "stderr",
     "output_type": "stream",
     "text": [
      "100%|██████████| 1/1 [00:09<00:00,  9.99s/it]\n"
     ]
    },
    {
     "name": "stdout",
     "output_type": "stream",
     "text": [
      "Saved JSON to: results/2025-04-09_17-07/parsed_caption_2025-04-09_17-07_chunk19.json\n"
     ]
    },
    {
     "name": "stderr",
     "output_type": "stream",
     "text": [
      "100%|██████████| 1/1 [00:10<00:00, 10.00s/it]\n"
     ]
    },
    {
     "name": "stdout",
     "output_type": "stream",
     "text": [
      "Saved JSON to: results/2025-04-09_17-07/parsed_caption_2025-04-09_17-07_chunk16.json\n"
     ]
    },
    {
     "name": "stderr",
     "output_type": "stream",
     "text": [
      "100%|██████████| 1/1 [00:10<00:00, 10.06s/it]\n"
     ]
    },
    {
     "name": "stdout",
     "output_type": "stream",
     "text": [
      "Saved JSON to: results/2025-04-09_17-07/parsed_caption_2025-04-09_17-07_chunk9.json\n"
     ]
    },
    {
     "name": "stderr",
     "output_type": "stream",
     "text": [
      "100%|██████████| 1/1 [00:10<00:00, 10.24s/it]\n"
     ]
    },
    {
     "name": "stdout",
     "output_type": "stream",
     "text": [
      "Saved JSON to: results/2025-04-09_17-07/parsed_caption_2025-04-09_17-07_chunk4.json\n"
     ]
    },
    {
     "name": "stderr",
     "output_type": "stream",
     "text": [
      "100%|██████████| 1/1 [00:10<00:00, 10.30s/it]\n"
     ]
    },
    {
     "name": "stdout",
     "output_type": "stream",
     "text": [
      "Saved JSON to: results/2025-04-09_17-07/parsed_caption_2025-04-09_17-07_chunk5.json\n"
     ]
    },
    {
     "name": "stderr",
     "output_type": "stream",
     "text": [
      "  0%|          | 0/1 [00:00<?, ?it/s]"
     ]
    },
    {
     "name": "stdout",
     "output_type": "stream",
     "text": [
      "Error: Recall mismatch for model [gpt-4o-2024-08-06]\n",
      "length 7 vs 7\n",
      "T atomics:\n",
      "['There is a piece of paper.', 'The paper has three columns.', 'The text is not legible.', 'The paper is white.', 'There are rectangles on the paper.', 'A worksheet is shown.', 'The worksheet is upside down.']\n",
      "Recall TPs:\n",
      "['The text is not legible']\n",
      "Recall FNs:\n",
      "['There is a piece of paper.', 'The paper has three columns.', 'The paper is white.', 'There are rectangles on the paper.', 'A worksheet is shown.', 'The worksheet is upside down.']\n"
     ]
    },
    {
     "name": "stderr",
     "output_type": "stream",
     "text": [
      "100%|██████████| 1/1 [00:10<00:00, 10.50s/it]\n"
     ]
    },
    {
     "name": "stdout",
     "output_type": "stream",
     "text": [
      "Saved JSON to: results/2025-04-09_17-07/parsed_caption_2025-04-09_17-07_chunk0.json\n"
     ]
    },
    {
     "name": "stderr",
     "output_type": "stream",
     "text": [
      "100%|██████████| 1/1 [00:10<00:00, 10.53s/it]\n",
      "100%|██████████| 1/1 [00:10<00:00, 10.53s/it]\n"
     ]
    },
    {
     "name": "stdout",
     "output_type": "stream",
     "text": [
      "Saved JSON to: results/2025-04-09_17-07/parsed_caption_2025-04-09_17-07_chunk12.json\n",
      "Saved JSON to: results/2025-04-09_17-07/parsed_caption_2025-04-09_17-07_chunk10.json"
     ]
    },
    {
     "name": "stderr",
     "output_type": "stream",
     "text": [
      "  0%|          | 0/1 [00:00<?, ?it/s]"
     ]
    },
    {
     "name": "stdout",
     "output_type": "stream",
     "text": [
      "\n"
     ]
    },
    {
     "name": "stderr",
     "output_type": "stream",
     "text": [
      "100%|██████████| 1/1 [00:10<00:00, 10.72s/it]\n"
     ]
    },
    {
     "name": "stdout",
     "output_type": "stream",
     "text": [
      "Saved JSON to: results/2025-04-09_17-07/parsed_caption_2025-04-09_17-07_chunk7.json\n"
     ]
    },
    {
     "name": "stderr",
     "output_type": "stream",
     "text": [
      "100%|██████████| 1/1 [00:10<00:00, 10.94s/it]\n"
     ]
    },
    {
     "name": "stdout",
     "output_type": "stream",
     "text": [
      "Saved JSON to: results/2025-04-09_17-07/parsed_caption_2025-04-09_17-07_chunk8.json\n"
     ]
    },
    {
     "name": "stderr",
     "output_type": "stream",
     "text": [
      "100%|██████████| 1/1 [00:11<00:00, 11.17s/it]\n"
     ]
    },
    {
     "name": "stdout",
     "output_type": "stream",
     "text": [
      "Saved JSON to: results/2025-04-09_17-07/parsed_caption_2025-04-09_17-07_chunk11.json\n"
     ]
    },
    {
     "name": "stderr",
     "output_type": "stream",
     "text": [
      "100%|██████████| 1/1 [00:11<00:00, 11.43s/it]\n"
     ]
    },
    {
     "name": "stdout",
     "output_type": "stream",
     "text": [
      "Saved JSON to: results/2025-04-09_17-07/parsed_caption_2025-04-09_17-07_chunk13.json\n"
     ]
    },
    {
     "name": "stderr",
     "output_type": "stream",
     "text": [
      "100%|██████████| 1/1 [00:11<00:00, 11.57s/it]\n"
     ]
    },
    {
     "name": "stdout",
     "output_type": "stream",
     "text": [
      "Saved JSON to: results/2025-04-09_17-07/parsed_caption_2025-04-09_17-07_chunk14.json\n"
     ]
    },
    {
     "name": "stderr",
     "output_type": "stream",
     "text": [
      "100%|██████████| 1/1 [00:11<00:00, 11.86s/it]\n"
     ]
    },
    {
     "name": "stdout",
     "output_type": "stream",
     "text": [
      "Saved JSON to: results/2025-04-09_17-07/parsed_caption_2025-04-09_17-07_chunk3.json\n"
     ]
    },
    {
     "name": "stderr",
     "output_type": "stream",
     "text": [
      "100%|██████████| 1/1 [00:11<00:00, 11.94s/it]\n"
     ]
    },
    {
     "name": "stdout",
     "output_type": "stream",
     "text": [
      "Saved JSON to: results/2025-04-09_17-07/parsed_caption_2025-04-09_17-07_chunk23.json\n"
     ]
    },
    {
     "name": "stderr",
     "output_type": "stream",
     "text": [
      "100%|██████████| 1/1 [00:12<00:00, 12.01s/it]\n"
     ]
    },
    {
     "name": "stdout",
     "output_type": "stream",
     "text": [
      "Saved JSON to: results/2025-04-09_17-07/parsed_caption_2025-04-09_17-07_chunk21.json\n"
     ]
    },
    {
     "name": "stderr",
     "output_type": "stream",
     "text": [
      "100%|██████████| 1/1 [00:12<00:00, 12.40s/it]\n"
     ]
    },
    {
     "name": "stdout",
     "output_type": "stream",
     "text": [
      "Saved JSON to: results/2025-04-09_17-07/parsed_caption_2025-04-09_17-07_chunk2.json\n"
     ]
    },
    {
     "name": "stderr",
     "output_type": "stream",
     "text": [
      "100%|██████████| 1/1 [00:12<00:00, 12.45s/it]\n"
     ]
    },
    {
     "name": "stdout",
     "output_type": "stream",
     "text": [
      "Saved JSON to: results/2025-04-09_17-07/parsed_caption_2025-04-09_17-07_chunk1.json\n"
     ]
    },
    {
     "name": "stderr",
     "output_type": "stream",
     "text": [
      "100%|██████████| 1/1 [00:12<00:00, 13.00s/it]\n"
     ]
    },
    {
     "name": "stdout",
     "output_type": "stream",
     "text": [
      "Saved JSON to: results/2025-04-09_17-07/parsed_caption_2025-04-09_17-07_chunk20.json\n"
     ]
    },
    {
     "name": "stderr",
     "output_type": "stream",
     "text": [
      "100%|██████████| 1/1 [00:13<00:00, 13.50s/it]\n"
     ]
    },
    {
     "name": "stdout",
     "output_type": "stream",
     "text": [
      "Saved JSON to: results/2025-04-09_17-07/parsed_caption_2025-04-09_17-07_chunk18.json\n"
     ]
    },
    {
     "name": "stderr",
     "output_type": "stream",
     "text": [
      "100%|██████████| 1/1 [00:13<00:00, 13.64s/it]\n"
     ]
    },
    {
     "name": "stdout",
     "output_type": "stream",
     "text": [
      "Saved JSON to: results/2025-04-09_17-07/parsed_caption_2025-04-09_17-07_chunk17.json\n"
     ]
    },
    {
     "name": "stderr",
     "output_type": "stream",
     "text": [
      "  0%|          | 0/1 [00:00<?, ?it/s]"
     ]
    },
    {
     "name": "stdout",
     "output_type": "stream",
     "text": [
      "Error: Recall mismatch for model [Llama-3.2-11B-Vision-Instruct]\n",
      "length 13 vs 14\n",
      "T atomics:\n",
      "['There is a white bag.', 'The bag is on a wooden surface.', 'The bag is next to a paneled wall.', 'There is a person.', 'The person is holding a beverage.', 'The beverage is in an aluminum can.', 'The aluminum can is white.', 'The aluminum can is red.', 'There is a canister shaped object.', 'The canister shaped object is near a wall.', 'The wall is made of wood.', 'There is a liquid.', 'The liquid is in a container.']\n",
      "Recall TPs:\n",
      "['There is a paneled wall.']\n",
      "Recall FNs:\n",
      "['There is a white bag.', 'The bag is on a wooden surface.', 'The bag is next to a paneled wall.', 'There is a person.', 'The person is holding a beverage.', 'The beverage is in an aluminum can.', 'The aluminum can is white.', 'The aluminum can is red.', 'There is a canister shaped object.', 'The canister shaped object is near a wall.', 'The wall is made of wood.', 'There is a liquid.', 'The liquid is in a container.']\n",
      "Error: Precision mismatch for model [Molmo-7B-O-0924]\n",
      "length 7 vs 7\n",
      "G atomics:\n",
      "['There is a box of tea.', 'The box is on a table.', 'The table is red.', 'The box is yellow.', 'The box has a red label.', 'The text \"Tea\" is visible on the box.', 'The text is at the bottom of the box.']\n",
      "Precision TPs:\n",
      "['The box is on a table']\n",
      "Precision FPs:\n",
      "['There is a box of tea', 'The table is red', 'The box is yellow', 'The box has a red label', 'The text \"Tea\" is visible on the box', 'The text is at the bottom of the box']\n"
     ]
    },
    {
     "name": "stderr",
     "output_type": "stream",
     "text": [
      "100%|██████████| 1/1 [00:09<00:00,  9.42s/it]\n"
     ]
    },
    {
     "name": "stdout",
     "output_type": "stream",
     "text": [
      "Saved JSON to: results/2025-04-09_17-07/recall_precision_2025-04-09_17-07_chunk15.json\n"
     ]
    },
    {
     "name": "stderr",
     "output_type": "stream",
     "text": [
      "100%|██████████| 1/1 [00:00<00:00, 13400.33it/s]\n"
     ]
    },
    {
     "name": "stdout",
     "output_type": "stream",
     "text": [
      "Saved JSON to: results/2025-04-09_17-07/final_2025-04-09_17-07_chunk15.json\n"
     ]
    },
    {
     "name": "stderr",
     "output_type": "stream",
     "text": [
      "100%|██████████| 1/1 [00:10<00:00, 10.01s/it]\n"
     ]
    },
    {
     "name": "stdout",
     "output_type": "stream",
     "text": [
      "Saved JSON to: results/2025-04-09_17-07/recall_precision_2025-04-09_17-07_chunk6.json\n"
     ]
    },
    {
     "name": "stderr",
     "output_type": "stream",
     "text": [
      "100%|██████████| 1/1 [00:00<00:00, 29537.35it/s]\n"
     ]
    },
    {
     "name": "stdout",
     "output_type": "stream",
     "text": [
      "Saved JSON to: results/2025-04-09_17-07/final_2025-04-09_17-07_chunk6.json\n"
     ]
    },
    {
     "name": "stderr",
     "output_type": "stream",
     "text": [
      "100%|██████████| 1/1 [00:11<00:00, 11.57s/it]\n"
     ]
    },
    {
     "name": "stdout",
     "output_type": "stream",
     "text": [
      "Saved JSON to: results/2025-04-09_17-07/recall_precision_2025-04-09_17-07_chunk22.json\n"
     ]
    },
    {
     "name": "stderr",
     "output_type": "stream",
     "text": [
      "100%|██████████| 1/1 [00:00<00:00, 12945.38it/s]\n"
     ]
    },
    {
     "name": "stdout",
     "output_type": "stream",
     "text": [
      "Saved JSON to: results/2025-04-09_17-07/final_2025-04-09_17-07_chunk22.json\n"
     ]
    },
    {
     "name": "stderr",
     "output_type": "stream",
     "text": [
      "100%|██████████| 1/1 [00:08<00:00,  8.51s/it]\n"
     ]
    },
    {
     "name": "stdout",
     "output_type": "stream",
     "text": [
      "Saved JSON to: results/2025-04-09_17-07/recall_precision_2025-04-09_17-07_chunk4.json\n"
     ]
    },
    {
     "name": "stderr",
     "output_type": "stream",
     "text": [
      "100%|██████████| 1/1 [00:00<00:00, 12787.51it/s]\n"
     ]
    },
    {
     "name": "stdout",
     "output_type": "stream",
     "text": [
      "Saved JSON to: results/2025-04-09_17-07/final_2025-04-09_17-07_chunk4.json\n"
     ]
    },
    {
     "name": "stderr",
     "output_type": "stream",
     "text": [
      "100%|██████████| 1/1 [00:08<00:00,  8.92s/it]\n"
     ]
    },
    {
     "name": "stdout",
     "output_type": "stream",
     "text": [
      "Saved JSON to: results/2025-04-09_17-07/recall_precision_2025-04-09_17-07_chunk13.json\n"
     ]
    },
    {
     "name": "stderr",
     "output_type": "stream",
     "text": [
      "100%|██████████| 1/1 [00:00<00:00, 13189.64it/s]\n"
     ]
    },
    {
     "name": "stdout",
     "output_type": "stream",
     "text": [
      "Saved JSON to: results/2025-04-09_17-07/final_2025-04-09_17-07_chunk13.json\n"
     ]
    },
    {
     "name": "stderr",
     "output_type": "stream",
     "text": [
      "100%|██████████| 1/1 [00:09<00:00,  9.39s/it]\n"
     ]
    },
    {
     "name": "stdout",
     "output_type": "stream",
     "text": [
      "Saved JSON to: results/2025-04-09_17-07/recall_precision_2025-04-09_17-07_chunk14.json\n"
     ]
    },
    {
     "name": "stderr",
     "output_type": "stream",
     "text": [
      "100%|██████████| 1/1 [00:00<00:00, 13066.37it/s]\n"
     ]
    },
    {
     "name": "stdout",
     "output_type": "stream",
     "text": [
      "Saved JSON to: results/2025-04-09_17-07/final_2025-04-09_17-07_chunk14.json\n"
     ]
    },
    {
     "name": "stderr",
     "output_type": "stream",
     "text": [
      "100%|██████████| 1/1 [00:10<00:00, 10.85s/it]\n"
     ]
    },
    {
     "name": "stdout",
     "output_type": "stream",
     "text": [
      "Saved JSON to: results/2025-04-09_17-07/recall_precision_2025-04-09_17-07_chunk7.json\n"
     ]
    },
    {
     "name": "stderr",
     "output_type": "stream",
     "text": [
      "100%|██████████| 1/1 [00:00<00:00, 13107.20it/s]\n"
     ]
    },
    {
     "name": "stdout",
     "output_type": "stream",
     "text": [
      "Saved JSON to: results/2025-04-09_17-07/final_2025-04-09_17-07_chunk7.json\n"
     ]
    },
    {
     "name": "stderr",
     "output_type": "stream",
     "text": [
      "100%|██████████| 1/1 [00:12<00:00, 12.64s/it]\n"
     ]
    },
    {
     "name": "stdout",
     "output_type": "stream",
     "text": [
      "Saved JSON to: results/2025-04-09_17-07/recall_precision_2025-04-09_17-07_chunk12.json\n"
     ]
    },
    {
     "name": "stderr",
     "output_type": "stream",
     "text": [
      "100%|██████████| 1/1 [00:00<00:00, 30174.85it/s]\n"
     ]
    },
    {
     "name": "stdout",
     "output_type": "stream",
     "text": [
      "Saved JSON to: results/2025-04-09_17-07/final_2025-04-09_17-07_chunk12.json\n"
     ]
    },
    {
     "name": "stderr",
     "output_type": "stream",
     "text": [
      "100%|██████████| 1/1 [00:12<00:00, 12.46s/it]\n"
     ]
    },
    {
     "name": "stdout",
     "output_type": "stream",
     "text": [
      "Saved JSON to: results/2025-04-09_17-07/recall_precision_2025-04-09_17-07_chunk11.json\n"
     ]
    },
    {
     "name": "stderr",
     "output_type": "stream",
     "text": [
      "100%|██████████| 1/1 [00:00<00:00, 13357.66it/s]\n"
     ]
    },
    {
     "name": "stdout",
     "output_type": "stream",
     "text": [
      "Saved JSON to: results/2025-04-09_17-07/final_2025-04-09_17-07_chunk11.json\n"
     ]
    },
    {
     "name": "stderr",
     "output_type": "stream",
     "text": [
      "100%|██████████| 1/1 [00:14<00:00, 14.40s/it]\n"
     ]
    },
    {
     "name": "stdout",
     "output_type": "stream",
     "text": [
      "Saved JSON to: results/2025-04-09_17-07/recall_precision_2025-04-09_17-07_chunk9.json\n"
     ]
    },
    {
     "name": "stderr",
     "output_type": "stream",
     "text": [
      "100%|██████████| 1/1 [00:00<00:00, 25115.59it/s]\n"
     ]
    },
    {
     "name": "stdout",
     "output_type": "stream",
     "text": [
      "Saved JSON to: results/2025-04-09_17-07/final_2025-04-09_17-07_chunk9.json\n"
     ]
    },
    {
     "name": "stderr",
     "output_type": "stream",
     "text": [
      "100%|██████████| 1/1 [00:14<00:00, 14.23s/it]\n"
     ]
    },
    {
     "name": "stdout",
     "output_type": "stream",
     "text": [
      "Saved JSON to: results/2025-04-09_17-07/recall_precision_2025-04-09_17-07_chunk5.json\n"
     ]
    },
    {
     "name": "stderr",
     "output_type": "stream",
     "text": [
      "100%|██████████| 1/1 [00:00<00:00, 12157.40it/s]\n"
     ]
    },
    {
     "name": "stdout",
     "output_type": "stream",
     "text": [
      "Saved JSON to: results/2025-04-09_17-07/final_2025-04-09_17-07_chunk5.json\n"
     ]
    },
    {
     "name": "stderr",
     "output_type": "stream",
     "text": [
      "100%|██████████| 1/1 [00:14<00:00, 14.46s/it]\n"
     ]
    },
    {
     "name": "stdout",
     "output_type": "stream",
     "text": [
      "Saved JSON to: results/2025-04-09_17-07/recall_precision_2025-04-09_17-07_chunk10.json\n"
     ]
    },
    {
     "name": "stderr",
     "output_type": "stream",
     "text": [
      "100%|██████████| 1/1 [00:00<00:00, 12945.38it/s]\n"
     ]
    },
    {
     "name": "stdout",
     "output_type": "stream",
     "text": [
      "Saved JSON to: results/2025-04-09_17-07/final_2025-04-09_17-07_chunk10.json\n"
     ]
    },
    {
     "name": "stderr",
     "output_type": "stream",
     "text": [
      "100%|██████████| 1/1 [00:12<00:00, 12.72s/it]\n"
     ]
    },
    {
     "name": "stdout",
     "output_type": "stream",
     "text": [
      "Saved JSON to: results/2025-04-09_17-07/recall_precision_2025-04-09_17-07_chunk2.json\n"
     ]
    },
    {
     "name": "stderr",
     "output_type": "stream",
     "text": [
      "100%|██████████| 1/1 [00:00<00:00, 30615.36it/s]\n"
     ]
    },
    {
     "name": "stdout",
     "output_type": "stream",
     "text": [
      "Saved JSON to: results/2025-04-09_17-07/final_2025-04-09_17-07_chunk2.json\n"
     ]
    },
    {
     "name": "stderr",
     "output_type": "stream",
     "text": [
      "100%|██████████| 1/1 [00:15<00:00, 15.77s/it]\n"
     ]
    },
    {
     "name": "stdout",
     "output_type": "stream",
     "text": [
      "Saved JSON to: results/2025-04-09_17-07/recall_precision_2025-04-09_17-07_chunk19.json\n"
     ]
    },
    {
     "name": "stderr",
     "output_type": "stream",
     "text": [
      "100%|██████████| 1/1 [00:00<00:00, 13231.24it/s]\n"
     ]
    },
    {
     "name": "stdout",
     "output_type": "stream",
     "text": [
      "Saved JSON to: results/2025-04-09_17-07/final_2025-04-09_17-07_chunk19.json\n"
     ]
    },
    {
     "name": "stderr",
     "output_type": "stream",
     "text": [
      "100%|██████████| 1/1 [00:15<00:00, 15.38s/it]\n"
     ]
    },
    {
     "name": "stdout",
     "output_type": "stream",
     "text": [
      "Saved JSON to: results/2025-04-09_17-07/recall_precision_2025-04-09_17-07_chunk0.json\n"
     ]
    },
    {
     "name": "stderr",
     "output_type": "stream",
     "text": [
      "100%|██████████| 1/1 [00:00<00:00, 13273.11it/s]\n"
     ]
    },
    {
     "name": "stdout",
     "output_type": "stream",
     "text": [
      "Saved JSON to: results/2025-04-09_17-07/final_2025-04-09_17-07_chunk0.json\n"
     ]
    },
    {
     "name": "stderr",
     "output_type": "stream",
     "text": [
      "100%|██████████| 1/1 [00:14<00:00, 14.66s/it]\n"
     ]
    },
    {
     "name": "stdout",
     "output_type": "stream",
     "text": [
      "Saved JSON to: results/2025-04-09_17-07/recall_precision_2025-04-09_17-07_chunk23.json\n"
     ]
    },
    {
     "name": "stderr",
     "output_type": "stream",
     "text": [
      "100%|██████████| 1/1 [00:00<00:00, 27594.11it/s]\n"
     ]
    },
    {
     "name": "stdout",
     "output_type": "stream",
     "text": [
      "Saved JSON to: results/2025-04-09_17-07/final_2025-04-09_17-07_chunk23.json\n"
     ]
    },
    {
     "name": "stderr",
     "output_type": "stream",
     "text": [
      "100%|██████████| 1/1 [00:14<00:00, 14.79s/it]\n",
      "100%|██████████| 1/1 [00:14<00:00, 14.79s/it]\n"
     ]
    },
    {
     "name": "stdout",
     "output_type": "stream",
     "text": [
      "Saved JSON to: results/2025-04-09_17-07/recall_precision_2025-04-09_17-07_chunk16.jsonSaved JSON to: results/2025-04-09_17-07/recall_precision_2025-04-09_17-07_chunk3.json\n",
      "\n"
     ]
    },
    {
     "name": "stderr",
     "output_type": "stream",
     "text": [
      "100%|██████████| 1/1 [00:00<00:00, 20560.31it/s]\n",
      "\n"
     ]
    },
    {
     "name": "stdout",
     "output_type": "stream",
     "text": [
      "Saved JSON to: results/2025-04-09_17-07/final_2025-04-09_17-07_chunk3.json\n",
      "Saved JSON to: results/2025-04-09_17-07/final_2025-04-09_17-07_chunk16.json\n"
     ]
    },
    {
     "name": "stderr",
     "output_type": "stream",
     "text": [
      "100%|██████████| 1/1 [00:14<00:00, 14.05s/it]\n"
     ]
    },
    {
     "name": "stdout",
     "output_type": "stream",
     "text": [
      "Saved JSON to: results/2025-04-09_17-07/recall_precision_2025-04-09_17-07_chunk17.json\n"
     ]
    },
    {
     "name": "stderr",
     "output_type": "stream",
     "text": [
      "100%|██████████| 1/1 [00:00<00:00, 13273.11it/s]\n"
     ]
    },
    {
     "name": "stdout",
     "output_type": "stream",
     "text": [
      "Saved JSON to: results/2025-04-09_17-07/final_2025-04-09_17-07_chunk17.json\n"
     ]
    },
    {
     "name": "stderr",
     "output_type": "stream",
     "text": [
      "100%|██████████| 1/1 [00:17<00:00, 17.16s/it]\n"
     ]
    },
    {
     "name": "stdout",
     "output_type": "stream",
     "text": [
      "Saved JSON to: results/2025-04-09_17-07/recall_precision_2025-04-09_17-07_chunk8.json\n"
     ]
    },
    {
     "name": "stderr",
     "output_type": "stream",
     "text": [
      "100%|██████████| 1/1 [00:00<00:00, 13025.79it/s]\n"
     ]
    },
    {
     "name": "stdout",
     "output_type": "stream",
     "text": [
      "Saved JSON to: results/2025-04-09_17-07/final_2025-04-09_17-07_chunk8.json\n"
     ]
    },
    {
     "name": "stderr",
     "output_type": "stream",
     "text": [
      "100%|██████████| 1/1 [00:15<00:00, 15.14s/it]\n"
     ]
    },
    {
     "name": "stdout",
     "output_type": "stream",
     "text": [
      "Saved JSON to: results/2025-04-09_17-07/recall_precision_2025-04-09_17-07_chunk20.json\n"
     ]
    },
    {
     "name": "stderr",
     "output_type": "stream",
     "text": [
      "100%|██████████| 1/1 [00:00<00:00, 11650.84it/s]\n"
     ]
    },
    {
     "name": "stdout",
     "output_type": "stream",
     "text": [
      "Saved JSON to: results/2025-04-09_17-07/final_2025-04-09_17-07_chunk20.json\n"
     ]
    },
    {
     "name": "stderr",
     "output_type": "stream",
     "text": [
      "100%|██████████| 1/1 [00:18<00:00, 18.55s/it]\n"
     ]
    },
    {
     "name": "stdout",
     "output_type": "stream",
     "text": [
      "Saved JSON to: results/2025-04-09_17-07/recall_precision_2025-04-09_17-07_chunk18.json\n"
     ]
    },
    {
     "name": "stderr",
     "output_type": "stream",
     "text": [
      "100%|██████████| 1/1 [00:00<00:00, 13273.11it/s]\n"
     ]
    },
    {
     "name": "stdout",
     "output_type": "stream",
     "text": [
      "Saved JSON to: results/2025-04-09_17-07/final_2025-04-09_17-07_chunk18.json\n"
     ]
    },
    {
     "name": "stderr",
     "output_type": "stream",
     "text": [
      "100%|██████████| 1/1 [00:20<00:00, 20.02s/it]\n"
     ]
    },
    {
     "name": "stdout",
     "output_type": "stream",
     "text": [
      "Saved JSON to: results/2025-04-09_17-07/recall_precision_2025-04-09_17-07_chunk1.json\n"
     ]
    },
    {
     "name": "stderr",
     "output_type": "stream",
     "text": [
      "100%|██████████| 1/1 [00:00<00:00, 25115.59it/s]\n"
     ]
    },
    {
     "name": "stdout",
     "output_type": "stream",
     "text": [
      "Saved JSON to: results/2025-04-09_17-07/final_2025-04-09_17-07_chunk1.json\n"
     ]
    },
    {
     "name": "stderr",
     "output_type": "stream",
     "text": [
      "100%|██████████| 1/1 [00:21<00:00, 21.06s/it]\n"
     ]
    },
    {
     "name": "stdout",
     "output_type": "stream",
     "text": [
      "Saved JSON to: results/2025-04-09_17-07/recall_precision_2025-04-09_17-07_chunk21.json\n"
     ]
    },
    {
     "name": "stderr",
     "output_type": "stream",
     "text": [
      "100%|██████████| 1/1 [00:00<00:00, 10155.70it/s]\n"
     ]
    },
    {
     "name": "stdout",
     "output_type": "stream",
     "text": [
      "Saved JSON to: results/2025-04-09_17-07/final_2025-04-09_17-07_chunk21.json\n"
     ]
    }
   ],
   "source": [
    "1\n",
    "\n",
    "run_parallel_processing(org_caption_dataset, all_human_captions, folder_path, timestamp, num_workers=24)"
   ]
  },
  {
   "cell_type": "code",
   "execution_count": 13,
   "metadata": {},
   "outputs": [
    {
     "name": "stdout",
     "output_type": "stream",
     "text": [
      "Merged 24 entries into results/2025-04-09_17-07/__final_2025-04-09_17-07_merged.json\n"
     ]
    }
   ],
   "source": [
    "def merge_json_chunks(output_file, file_pattern):\n",
    "    merged_data = []\n",
    "\n",
    "    for filename in sorted(glob.glob(file_pattern)):\n",
    "        with open(filename, \"r\", encoding=\"utf-8\") as f:\n",
    "            try:\n",
    "                data = json.load(f)\n",
    "                if isinstance(data, list):\n",
    "                    merged_data.extend(data)\n",
    "                elif isinstance(data, dict):\n",
    "                    merged_data.append(data)\n",
    "            except Exception as e:\n",
    "                print(f\"Failed to read {filename}: {e}\")\n",
    "\n",
    "    with open(output_file, \"w\", encoding=\"utf-8\") as out_f:\n",
    "        json.dump(merged_data, out_f, indent=2, ensure_ascii=False)\n",
    "\n",
    "    print(f\"Merged {len(merged_data)} entries into {output_file}\")\n",
    "\n",
    "merge_json_chunks(\n",
    "    output_file=f\"{folder_path}/__final_{timestamp}_merged.json\",\n",
    "    file_pattern=f\"{folder_path}/final_{timestamp}_chunk*.json\"\n",
    ")\n"
   ]
  },
  {
   "cell_type": "code",
   "execution_count": 14,
   "metadata": {},
   "outputs": [
    {
     "name": "stdout",
     "output_type": "stream",
     "text": [
      "CSV file saved to: results/2025-04-09_17-07/__final_2025-04-09_17-07_merged.csv\n"
     ]
    }
   ],
   "source": [
    "import json\n",
    "import csv\n",
    "\n",
    "def format_matches(match_list):\n",
    "    lines = []\n",
    "    for m in match_list:\n",
    "        if \"T_atomic\" in m and \"g_atomic\" in m:\n",
    "            lines.append(f'{m[\"T_atomic\"]} : {m[\"g_atomic\"]}')\n",
    "        elif \"g_atomic\" in m and \"T_org\" in m:\n",
    "            lines.append(f'{m[\"g_atomic\"]} : {m[\"T_org\"]}')\n",
    "        else:\n",
    "            lines.append(str(m))  # fallback for unexpected format\n",
    "    return \"\\n\".join(lines)\n",
    "\n",
    "\n",
    "json_path = f\"{folder_path}/__final_{timestamp}_merged.json\"\n",
    "csv_path = f\"{folder_path}/__final_{timestamp}_merged.csv\"\n",
    "\n",
    "with open(json_path, \"r\", encoding=\"utf-8\") as f:\n",
    "    data = json.load(f)\n",
    "\n",
    "\n",
    "fieldnames = [\n",
    "    \"image\",\n",
    "    \"link\",\n",
    "    \"T_org\",\n",
    "    \"parsed_T\",\n",
    "    \"T_atomics\",\n",
    "    \"gpt_caption\",\n",
    "    \"gpt_g_atomics\",\n",
    "    \"gpt_recall_TPs\",\n",
    "    \"gpt_recall_Matches\",\n",
    "    \"gpt_recall_FNs\",\n",
    "    \"gpt_precision_TPs\",\n",
    "    \"gpt_precision_Matches\",\n",
    "    \"gpt_precision_FPs\",\n",
    "    \"molmo_caption\",\n",
    "    \"molmo_g_atomics\",\n",
    "    \"molmo_recall_TPs\",\n",
    "    \"molmo_recall_Matches\",\n",
    "    \"molmo_recall_FNs\",\n",
    "    \"molmo_precision_TPs\",\n",
    "    \"molmo_precision_Matches\",\n",
    "    \"molmo_precision_FPs\",\n",
    "    \"llama_caption\",\n",
    "    \"llama_g_atomics\",\n",
    "    \"llama_recall_TPs\",\n",
    "    \"llama_recall_Matches\",\n",
    "    \"llama_recall_FNs\",\n",
    "    \"llama_precision_TPs\", \n",
    "    \"llama_precision_Matches\",\n",
    "    \"llama_precision_FPs\",\n",
    "    \"gpt_recall\",\n",
    "    \"gpt_precision\",\n",
    "    \"gpt_capf1\",\n",
    "    \"molmo_recall\",\n",
    "    \"molmo_precision\",\n",
    "    \"molmo_capf1\",\n",
    "    \"llama_recall\",\n",
    "    \"llama_precision\",\n",
    "    \"llama_capf1\",\n",
    "]\n",
    "\n",
    "with open(csv_path, \"w\", newline=\"\", encoding=\"utf-8\") as csvfile:\n",
    "    writer = csv.DictWriter(csvfile, fieldnames=fieldnames)\n",
    "    writer.writeheader()\n",
    "\n",
    "    for item in data:\n",
    "        file_name = item.get(\"file_name\", \"\")\n",
    "        cap_f1 = item.get(\"evaluation\", {}).get(\"cap_f1\", {})\n",
    "        scores = cap_f1.get(\"scores\", {})\n",
    "        metadata = cap_f1.get(\"metadata\", {})\n",
    "        t_atomics = cap_f1.get(\"T_atomics\", [])\n",
    "        parsed_T = cap_f1.get(\"parsed_atomics\", [])\n",
    "        T_org = cap_f1.get(\"T_org\", [])\n",
    "\n",
    "        model_keys = {\n",
    "            \"gpt\": \"gpt-4o-2024-08-06\",\n",
    "            \"molmo\": \"Molmo-7B-O-0924\",\n",
    "            \"llama\": \"Llama-3.2-11B-Vision-Instruct\",\n",
    "        }\n",
    "\n",
    "        row = {\n",
    "            \"image\": file_name,\n",
    "            \"link\": f'=HYPERLINK(\"https://vizwiz.cs.colorado.edu/VizWiz_visualization_img/{file_name}\", \"{file_name}\")',\n",
    "            \"T_org\": \"\\n\".join(T_org), \n",
    "            \"parsed_T\": \"\\n\".join(parsed_T), \n",
    "            \"T_atomics\": \"\\n\".join(t_atomics),\n",
    "            \"gpt_caption\": item[\"model_captions\"][0][\"caption\"],\n",
    "            \"molmo_caption\": item[\"model_captions\"][2][\"caption\"],\n",
    "            \"llama_caption\": item[\"model_captions\"][1][\"caption\"],\n",
    "            \"gpt_g_atomics\": \"\", \"molmo_g_atomics\": \"\", \"llama_g_atomics\": \"\",\n",
    "            \"gpt_recall_TPs\": \"\", \"molmo_recall_TPs\": \"\", \"llama_recall_TPs\": \"\",\n",
    "            \"gpt_recall_Matches\": \"\", \"molmo_recall_Matches\": \"\", \"llama_recall_Matches\": \"\",\n",
    "            \"gpt_recall_FNs\": \"\", \"molmo_recall_FNs\": \"\", \"llama_recall_FNs\": \"\",\n",
    "            \"gpt_precision_TPs\": \"\", \"molmo_precision_TPs\": \"\", \"llama_precision_TPs\": \"\",\n",
    "            \"gpt_precision_Matches\": \"\", \"molmo_precision_Matches\": \"\", \"llama_precision_Matches\": \"\",\n",
    "            \"gpt_precision_FPs\": \"\", \"molmo_precision_FPs\": \"\", \"llama_precision_FPs\": \"\",\n",
    "            \"gpt_recall\": scores.get(model_keys[\"gpt\"], {}).get(\"recall\"),\n",
    "            \"gpt_precision\": scores.get(model_keys[\"gpt\"], {}).get(\"precision\"),\n",
    "            \"gpt_capf1\": scores.get(model_keys[\"gpt\"], {}).get(\"cap_f1\"),\n",
    "            \"molmo_recall\": scores.get(model_keys[\"molmo\"], {}).get(\"recall\"),\n",
    "            \"molmo_precision\": scores.get(model_keys[\"molmo\"], {}).get(\"precision\"),\n",
    "            \"molmo_capf1\": scores.get(model_keys[\"molmo\"], {}).get(\"cap_f1\"),\n",
    "            \"llama_recall\": scores.get(model_keys[\"llama\"], {}).get(\"recall\"),\n",
    "            \"llama_precision\": scores.get(model_keys[\"llama\"], {}).get(\"precision\"),\n",
    "            \"llama_capf1\": scores.get(model_keys[\"llama\"], {}).get(\"cap_f1\"),\n",
    "        }\n",
    "\n",
    "        for short_name, model_key in model_keys.items():\n",
    "            g_atomics_list = cap_f1.get(\"g_atomics\", {}).get(model_key, [])\n",
    "            row[f\"{short_name}_g_atomics\"] = \"\\n\".join(g_atomics_list)\n",
    "\n",
    "            recall = metadata.get(model_key, {}).get(\"recall\", {})\n",
    "            row[f\"{short_name}_recall_TPs\"] = \"\\n\".join(recall.get(\"TPs\", []))\n",
    "            row[f\"{short_name}_recall_FNs\"] = \"\\n\".join(recall.get(\"FNs\", []))\n",
    "            row[f\"{short_name}_recall_Matches\"] = format_matches(recall.get(\"Match\", []))\n",
    "\n",
    "            precision = metadata.get(model_key, {}).get(\"precision\", {})\n",
    "            row[f\"{short_name}_precision_TPs\"] = \"\\n\".join(precision.get(\"TPs\", []))\n",
    "            row[f\"{short_name}_precision_FPs\"] = \"\\n\".join(precision.get(\"FPs\", []))\n",
    "            row[f\"{short_name}_precision_Matches\"] = format_matches(precision.get(\"Match\", []))\n",
    "\n",
    "        writer.writerow(row)\n",
    "\n",
    "print(f\"CSV file saved to: {csv_path}\")\n"
   ]
  }
 ],
 "metadata": {
  "kernelspec": {
   "display_name": "lic",
   "language": "python",
   "name": "python3"
  },
  "language_info": {
   "codemirror_mode": {
    "name": "ipython",
    "version": 3
   },
   "file_extension": ".py",
   "mimetype": "text/x-python",
   "name": "python",
   "nbconvert_exporter": "python",
   "pygments_lexer": "ipython3",
   "version": "3.10.16"
  }
 },
 "nbformat": 4,
 "nbformat_minor": 2
}
