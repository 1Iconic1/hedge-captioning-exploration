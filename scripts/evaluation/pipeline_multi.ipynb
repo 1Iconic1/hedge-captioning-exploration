{
 "cells": [
  {
   "cell_type": "markdown",
   "metadata": {},
   "source": [
    "### Include Library"
   ]
  },
  {
   "cell_type": "code",
   "execution_count": 41,
   "metadata": {},
   "outputs": [
    {
     "name": "stdout",
     "output_type": "stream",
     "text": [
      "The autoreload extension is already loaded. To reload it, use:\n",
      "  %reload_ext autoreload\n"
     ]
    }
   ],
   "source": [
    "# library for cap_f1\n",
    "from cap_f1 import *\n",
    "from datetime import datetime\n",
    "from multiprocessing import Pool\n",
    "import math\n",
    "import json\n",
    "import glob\n",
    "import os\n",
    "\n",
    "\n",
    "# code for no need for restarting the kernel when python file is updated\n",
    "%load_ext autoreload\n",
    "%autoreload 2\n"
   ]
  },
  {
   "cell_type": "markdown",
   "metadata": {},
   "source": [
    "### Load Data"
   ]
  },
  {
   "cell_type": "code",
   "execution_count": 42,
   "metadata": {},
   "outputs": [
    {
     "name": "stdout",
     "output_type": "stream",
     "text": [
      "Load caption file...\n"
     ]
    }
   ],
   "source": [
    "print(\"Load caption file...\")\n",
    "\n",
    "# features that we need to extract from the original dataset\n",
    "org_caption_dataset = read_json(\"evaluation_results_5432-images_2025-04-03_11_27_fixed.json\")\n",
    "\n",
    "all_human_captions=[]\n",
    "for item in org_caption_dataset:\n",
    "    # Filter out human captions\n",
    "    human_captions = [\n",
    "        hc[\"caption\"]            \n",
    "        for hc in item[\"human_captions\"]\n",
    "        if hc[\"caption\"] != \"Quality issues are too severe to recognize visual content.\"\n",
    "    ]\n",
    "    all_human_captions.append(human_captions)\n",
    "\n"
   ]
  },
  {
   "cell_type": "code",
   "execution_count": 43,
   "metadata": {},
   "outputs": [
    {
     "name": "stdout",
     "output_type": "stream",
     "text": [
      "5432\n"
     ]
    }
   ],
   "source": [
    "# This is for testing\n",
    "print(len(org_caption_dataset))\n",
    "org_caption_dataset = org_caption_dataset[:128]\n",
    "all_human_captions = all_human_captions[:128]"
   ]
  },
  {
   "cell_type": "markdown",
   "metadata": {},
   "source": [
    "### Run Multi Processors"
   ]
  },
  {
   "cell_type": "code",
   "execution_count": 44,
   "metadata": {},
   "outputs": [],
   "source": [
    "def process_batch(start_idx, end_idx, org_caption_dataset, all_human_captions, folder_path, timestamp, chunk_id):\n",
    "    subset = org_caption_dataset[start_idx:end_idx]\n",
    "    LIMIT = len(subset)\n",
    "    human_subset = all_human_captions[start_idx:end_idx]\n",
    "\n",
    "    # Step 1: Parse atomics\n",
    "    T_atomics, g_atomics = generate_atomic_statement(subset, limit=LIMIT)\n",
    "    save_results_json(output_path=f\"{folder_path}/parsed_caption_{timestamp}_chunk{chunk_id}.json\",\n",
    "                      org_dataset=subset, T_atomics=T_atomics, g_atomics=g_atomics, limit=LIMIT)\n",
    "\n",
    "    # Step 2: Match human & generated\n",
    "    metadata = evaluate_matching(human_subset, T_atomics, g_atomics)\n",
    "    save_results_json(output_path=f\"{folder_path}/recall_precision_{timestamp}_chunk{chunk_id}.json\",\n",
    "                      update_existing=f\"{folder_path}/parsed_caption_{timestamp}_chunk{chunk_id}.json\",\n",
    "                      metadata=metadata, limit=LIMIT)\n",
    "\n",
    "    # Step 3: Cap F1\n",
    "    evaluation = calculate_cap_f1(metadata)\n",
    "    save_results_json(output_path=f\"{folder_path}/final_{timestamp}_chunk{chunk_id}.json\",\n",
    "                      update_existing=f\"{folder_path}/recall_precision_{timestamp}_chunk{chunk_id}.json\",\n",
    "                      evaluations=evaluation, limit=LIMIT)\n",
    "\n",
    "def run_parallel_processing(org_caption_dataset, all_human_captions, folder_path, timestamp, num_workers=32):\n",
    "    total = len(org_caption_dataset)\n",
    "    chunk_size = math.ceil(total / num_workers)\n",
    "\n",
    "    with Pool(processes=num_workers) as pool:\n",
    "        jobs = []\n",
    "        for i in range(num_workers):\n",
    "            start_idx = i * chunk_size\n",
    "            end_idx = min((i + 1) * chunk_size, total)\n",
    "            jobs.append(pool.apply_async(process_batch, (start_idx, end_idx, org_caption_dataset, all_human_captions, folder_path, timestamp, i)))\n",
    "        \n",
    "        for job in jobs:\n",
    "            job.get()"
   ]
  },
  {
   "cell_type": "code",
   "execution_count": 45,
   "metadata": {},
   "outputs": [
    {
     "name": "stderr",
     "output_type": "stream",
     "text": [
      "100%|██████████| 4/4 [00:36<00:00,  9.13s/it]\n"
     ]
    },
    {
     "name": "stdout",
     "output_type": "stream",
     "text": [
      "Saved JSON to: results/2025-04-03_23-04/parsed_caption_2025-04-03_23-04_chunk30.json\n"
     ]
    },
    {
     "name": "stderr",
     "output_type": "stream",
     "text": [
      "100%|██████████| 4/4 [00:39<00:00,  9.80s/it]\n"
     ]
    },
    {
     "name": "stdout",
     "output_type": "stream",
     "text": [
      "Saved JSON to: results/2025-04-03_23-04/parsed_caption_2025-04-03_23-04_chunk29.json\n"
     ]
    },
    {
     "name": "stderr",
     "output_type": "stream",
     "text": [
      "100%|██████████| 4/4 [00:39<00:00,  9.83s/it]\n"
     ]
    },
    {
     "name": "stdout",
     "output_type": "stream",
     "text": [
      "Saved JSON to: results/2025-04-03_23-04/parsed_caption_2025-04-03_23-04_chunk3.json\n"
     ]
    },
    {
     "name": "stderr",
     "output_type": "stream",
     "text": [
      "100%|██████████| 4/4 [00:39<00:00,  9.88s/it]\n",
      "100%|██████████| 4/4 [00:39<00:00,  9.87s/it]"
     ]
    },
    {
     "name": "stdout",
     "output_type": "stream",
     "text": [
      "Saved JSON to: results/2025-04-03_23-04/parsed_caption_2025-04-03_23-04_chunk6.json"
     ]
    },
    {
     "name": "stderr",
     "output_type": "stream",
     "text": [
      "\n"
     ]
    },
    {
     "name": "stdout",
     "output_type": "stream",
     "text": [
      "\n"
     ]
    },
    {
     "name": "stderr",
     "output_type": "stream",
     "text": [
      "  0%|          | 0/4 [00:00<?, ?it/s]"
     ]
    },
    {
     "name": "stdout",
     "output_type": "stream",
     "text": [
      "Saved JSON to: results/2025-04-03_23-04/parsed_caption_2025-04-03_23-04_chunk20.json\n"
     ]
    },
    {
     "name": "stderr",
     "output_type": "stream",
     "text": [
      "100%|██████████| 4/4 [00:40<00:00, 10.06s/it]\n"
     ]
    },
    {
     "name": "stdout",
     "output_type": "stream",
     "text": [
      "Saved JSON to: results/2025-04-03_23-04/parsed_caption_2025-04-03_23-04_chunk22.json\n"
     ]
    },
    {
     "name": "stderr",
     "output_type": "stream",
     "text": [
      "100%|██████████| 4/4 [00:40<00:00, 10.08s/it]\n"
     ]
    },
    {
     "name": "stdout",
     "output_type": "stream",
     "text": [
      "Saved JSON to: results/2025-04-03_23-04/parsed_caption_2025-04-03_23-04_chunk11.json\n"
     ]
    },
    {
     "name": "stderr",
     "output_type": "stream",
     "text": [
      "100%|██████████| 4/4 [00:41<00:00, 10.30s/it]\n"
     ]
    },
    {
     "name": "stdout",
     "output_type": "stream",
     "text": [
      "Saved JSON to: results/2025-04-03_23-04/parsed_caption_2025-04-03_23-04_chunk16.json\n"
     ]
    },
    {
     "name": "stderr",
     "output_type": "stream",
     "text": [
      "100%|██████████| 4/4 [00:41<00:00, 10.31s/it]\n"
     ]
    },
    {
     "name": "stdout",
     "output_type": "stream",
     "text": [
      "Saved JSON to: results/2025-04-03_23-04/parsed_caption_2025-04-03_23-04_chunk25.json\n"
     ]
    },
    {
     "name": "stderr",
     "output_type": "stream",
     "text": [
      "100%|██████████| 4/4 [00:41<00:00, 10.47s/it]\n"
     ]
    },
    {
     "name": "stdout",
     "output_type": "stream",
     "text": [
      "Saved JSON to: results/2025-04-03_23-04/parsed_caption_2025-04-03_23-04_chunk14.json\n"
     ]
    },
    {
     "name": "stderr",
     "output_type": "stream",
     "text": [
      "100%|██████████| 4/4 [00:41<00:00, 10.49s/it]\n"
     ]
    },
    {
     "name": "stdout",
     "output_type": "stream",
     "text": [
      "Saved JSON to: results/2025-04-03_23-04/parsed_caption_2025-04-03_23-04_chunk7.json\n"
     ]
    },
    {
     "name": "stderr",
     "output_type": "stream",
     "text": [
      "100%|██████████| 4/4 [00:42<00:00, 10.52s/it]\n",
      "100%|██████████| 4/4 [00:42<00:00, 10.51s/it]\n"
     ]
    },
    {
     "name": "stdout",
     "output_type": "stream",
     "text": [
      "Saved JSON to: results/2025-04-03_23-04/parsed_caption_2025-04-03_23-04_chunk18.json\n"
     ]
    },
    {
     "name": "stderr",
     "output_type": "stream",
     "text": [
      "  0%|          | 0/4 [00:00<?, ?it/s]"
     ]
    },
    {
     "name": "stdout",
     "output_type": "stream",
     "text": [
      "Saved JSON to: results/2025-04-03_23-04/parsed_caption_2025-04-03_23-04_chunk28.json\n"
     ]
    },
    {
     "name": "stderr",
     "output_type": "stream",
     "text": [
      "100%|██████████| 4/4 [00:42<00:00, 10.56s/it]\n"
     ]
    },
    {
     "name": "stdout",
     "output_type": "stream",
     "text": [
      "Saved JSON to: results/2025-04-03_23-04/parsed_caption_2025-04-03_23-04_chunk12.json\n"
     ]
    },
    {
     "name": "stderr",
     "output_type": "stream",
     "text": [
      "100%|██████████| 4/4 [00:43<00:00, 10.91s/it]\n"
     ]
    },
    {
     "name": "stdout",
     "output_type": "stream",
     "text": [
      "Saved JSON to: results/2025-04-03_23-04/parsed_caption_2025-04-03_23-04_chunk13.json\n"
     ]
    },
    {
     "name": "stderr",
     "output_type": "stream",
     "text": [
      "100%|██████████| 4/4 [00:44<00:00, 11.00s/it]\n"
     ]
    },
    {
     "name": "stdout",
     "output_type": "stream",
     "text": [
      "Saved JSON to: results/2025-04-03_23-04/parsed_caption_2025-04-03_23-04_chunk26.json\n"
     ]
    },
    {
     "name": "stderr",
     "output_type": "stream",
     "text": [
      "100%|██████████| 4/4 [00:44<00:00, 11.11s/it]\n"
     ]
    },
    {
     "name": "stdout",
     "output_type": "stream",
     "text": [
      "Saved JSON to: results/2025-04-03_23-04/parsed_caption_2025-04-03_23-04_chunk31.json\n"
     ]
    },
    {
     "name": "stderr",
     "output_type": "stream",
     "text": [
      "100%|██████████| 4/4 [00:44<00:00, 11.15s/it]\n"
     ]
    },
    {
     "name": "stdout",
     "output_type": "stream",
     "text": [
      "Saved JSON to: results/2025-04-03_23-04/parsed_caption_2025-04-03_23-04_chunk24.json\n"
     ]
    },
    {
     "name": "stderr",
     "output_type": "stream",
     "text": [
      "100%|██████████| 4/4 [00:44<00:00, 11.20s/it]\n"
     ]
    },
    {
     "name": "stdout",
     "output_type": "stream",
     "text": [
      "Saved JSON to: results/2025-04-03_23-04/parsed_caption_2025-04-03_23-04_chunk15.json\n"
     ]
    },
    {
     "name": "stderr",
     "output_type": "stream",
     "text": [
      "100%|██████████| 4/4 [00:44<00:00, 11.24s/it]\n"
     ]
    },
    {
     "name": "stdout",
     "output_type": "stream",
     "text": [
      "Saved JSON to: results/2025-04-03_23-04/parsed_caption_2025-04-03_23-04_chunk9.json\n"
     ]
    },
    {
     "name": "stderr",
     "output_type": "stream",
     "text": [
      "100%|██████████| 4/4 [00:45<00:00, 11.32s/it]\n"
     ]
    },
    {
     "name": "stdout",
     "output_type": "stream",
     "text": [
      "Saved JSON to: results/2025-04-03_23-04/parsed_caption_2025-04-03_23-04_chunk5.json\n"
     ]
    },
    {
     "name": "stderr",
     "output_type": "stream",
     "text": [
      "100%|██████████| 4/4 [00:45<00:00, 11.50s/it]\n"
     ]
    },
    {
     "name": "stdout",
     "output_type": "stream",
     "text": [
      "Saved JSON to: results/2025-04-03_23-04/parsed_caption_2025-04-03_23-04_chunk4.json\n"
     ]
    },
    {
     "name": "stderr",
     "output_type": "stream",
     "text": [
      "100%|██████████| 4/4 [00:46<00:00, 11.68s/it]\n"
     ]
    },
    {
     "name": "stdout",
     "output_type": "stream",
     "text": [
      "Saved JSON to: results/2025-04-03_23-04/parsed_caption_2025-04-03_23-04_chunk8.json\n"
     ]
    },
    {
     "name": "stderr",
     "output_type": "stream",
     "text": [
      "100%|██████████| 4/4 [00:46<00:00, 11.74s/it]\n"
     ]
    },
    {
     "name": "stdout",
     "output_type": "stream",
     "text": [
      "Saved JSON to: results/2025-04-03_23-04/parsed_caption_2025-04-03_23-04_chunk10.json\n"
     ]
    },
    {
     "name": "stderr",
     "output_type": "stream",
     "text": [
      "100%|██████████| 4/4 [00:47<00:00, 11.92s/it]\n"
     ]
    },
    {
     "name": "stdout",
     "output_type": "stream",
     "text": [
      "Saved JSON to: results/2025-04-03_23-04/parsed_caption_2025-04-03_23-04_chunk17.json\n"
     ]
    },
    {
     "name": "stderr",
     "output_type": "stream",
     "text": [
      "100%|██████████| 4/4 [00:48<00:00, 12.07s/it]\n"
     ]
    },
    {
     "name": "stdout",
     "output_type": "stream",
     "text": [
      "Saved JSON to: results/2025-04-03_23-04/parsed_caption_2025-04-03_23-04_chunk19.json\n"
     ]
    },
    {
     "name": "stderr",
     "output_type": "stream",
     "text": [
      "100%|██████████| 4/4 [00:49<00:00, 12.42s/it]\n"
     ]
    },
    {
     "name": "stdout",
     "output_type": "stream",
     "text": [
      "Saved JSON to: results/2025-04-03_23-04/parsed_caption_2025-04-03_23-04_chunk1.json\n"
     ]
    },
    {
     "name": "stderr",
     "output_type": "stream",
     "text": [
      "100%|██████████| 4/4 [00:50<00:00, 12.69s/it]\n"
     ]
    },
    {
     "name": "stdout",
     "output_type": "stream",
     "text": [
      "Saved JSON to: results/2025-04-03_23-04/parsed_caption_2025-04-03_23-04_chunk23.json\n"
     ]
    },
    {
     "name": "stderr",
     "output_type": "stream",
     "text": [
      "100%|██████████| 4/4 [00:51<00:00, 12.92s/it]\n"
     ]
    },
    {
     "name": "stdout",
     "output_type": "stream",
     "text": [
      "Saved JSON to: results/2025-04-03_23-04/parsed_caption_2025-04-03_23-04_chunk2.json\n"
     ]
    },
    {
     "name": "stderr",
     "output_type": "stream",
     "text": [
      "100%|██████████| 4/4 [00:52<00:00, 13.01s/it]\n"
     ]
    },
    {
     "name": "stdout",
     "output_type": "stream",
     "text": [
      "Saved JSON to: results/2025-04-03_23-04/parsed_caption_2025-04-03_23-04_chunk0.json\n"
     ]
    },
    {
     "name": "stderr",
     "output_type": "stream",
     "text": [
      " 25%|██▌       | 1/4 [00:14<00:44, 14.96s/it]"
     ]
    },
    {
     "name": "stdout",
     "output_type": "stream",
     "text": [
      "Error: Precision mismatch for model [Llama-3.2-11B-Vision-Instruct]\n",
      "length 11 vs 10\n",
      "G atomics:\n",
      "['There is a bottle.', 'The bottle is made of plastic.', 'The bottle is white.', 'The bottle has a label.', 'The label is yellow and orange.', 'The label has text.', \"The text on the label says 'Folic 800'.\", \"The text 'Folic 800' is in black font.\", 'The label has a barcode.', 'There is additional text on the label.', 'The additional text is not legible.']\n",
      "Precision TPs:\n",
      "['There is a bottle.', 'The bottle is white.', 'The bottle has a label.', \"The text on the label says 'Folic 800'.\", 'The label has a barcode.']\n",
      "Precision FPs:\n",
      "['The bottle is made of plastic.', 'The label is yellow and orange.', \"The text 'Folic 800' is in black font.\", 'There is additional text on the label.', 'The additional text is not legible.']\n"
     ]
    },
    {
     "name": "stderr",
     "output_type": "stream",
     "text": [
      "100%|██████████| 4/4 [00:54<00:00, 13.68s/it]\n"
     ]
    },
    {
     "name": "stdout",
     "output_type": "stream",
     "text": [
      "Saved JSON to: results/2025-04-03_23-04/parsed_caption_2025-04-03_23-04_chunk21.json\n"
     ]
    },
    {
     "name": "stderr",
     "output_type": "stream",
     "text": [
      " 50%|█████     | 2/4 [00:21<00:21, 10.79s/it]"
     ]
    },
    {
     "name": "stdout",
     "output_type": "stream",
     "text": [
      "Error: Recall mismatch for model [gpt-4o-2024-08-06]\n",
      "length 14 vs 13\n",
      "T atomics:\n",
      "['There is a carton of eggs.', 'The carton of eggs is on a table.', 'The table is dark brown.', 'There is a newspaper.', 'The newspaper is above the carton of eggs.', 'There is a box of unsalted butter.', 'There are some receipts.', 'The box of unsalted butter is on a counter top.', 'The receipts are next to the box of unsalted butter.', 'There is a package.', 'The package is blue.', 'The package contains unsalted butter.', 'There is a picture on the package.', 'The picture is of a cow.']\n",
      "Recall TPs:\n",
      "['There is a box of unsalted butter.', 'The package is blue.', 'The package contains unsalted butter.', 'There is a picture on the package.', 'The picture is of a cow.']\n",
      "Recall FNs:\n",
      "['There is a carton of eggs.', 'The carton of eggs is on a table.', 'The table is dark brown.', 'There is a newspaper.', 'The newspaper is above the carton of eggs.', 'There are some receipts.', 'The box of unsalted butter is on a counter top.', 'The receipts are next to the box of unsalted butter.']\n"
     ]
    },
    {
     "name": "stderr",
     "output_type": "stream",
     "text": [
      "100%|██████████| 4/4 [01:01<00:00, 15.49s/it]\n"
     ]
    },
    {
     "name": "stdout",
     "output_type": "stream",
     "text": [
      "Saved JSON to: results/2025-04-03_23-04/parsed_caption_2025-04-03_23-04_chunk27.json\n"
     ]
    },
    {
     "name": "stderr",
     "output_type": "stream",
     "text": [
      " 50%|█████     | 2/4 [00:21<00:21, 10.63s/it]"
     ]
    },
    {
     "name": "stdout",
     "output_type": "stream",
     "text": [
      "Error: Recall mismatch for model [gpt-4o-2024-08-06]\n",
      "length 12 vs 11\n",
      "T atomics:\n",
      "['The bottle is grey.', 'The bottle contains pills.', 'The bottle is of the GNC brand.', 'The bottle is on a surface.', 'The surface is solid.', 'The bottle contains a dietary supplement.', 'The dietary supplement is Biotin.', 'The image is a close-up of the bottle.', 'The GNC Biotin dietary supplement exists.', 'The GNC Biotin dietary supplement is lying on its side.', 'The top two thirds of the bottle are visible.', 'The bottle is on a table.']\n",
      "Recall TPs:\n",
      "['The bottle is grey.', 'The bottle contains a dietary supplement.', 'The dietary supplement is Biotin.', 'The GNC Biotin dietary supplement exists.', 'The bottle is of the GNC brand.']\n",
      "Recall FNs:\n",
      "['The bottle contains pills.', 'The bottle is on a surface.', 'The surface is solid.', 'The GNC Biotin dietary supplement is lying on its side.', 'The top two thirds of the bottle are visible.', 'The bottle is on a table.']\n"
     ]
    },
    {
     "name": "stderr",
     "output_type": "stream",
     "text": [
      " 75%|███████▌  | 3/4 [00:31<00:10, 10.52s/it]"
     ]
    },
    {
     "name": "stdout",
     "output_type": "stream",
     "text": [
      "Error: Recall mismatch for model [Molmo-7B-O-0924]\n",
      "length 11 vs 12\n",
      "T atomics:\n",
      "['There is a bottle of tomato sauce.', 'The bottle is on a tablecloth.', 'The tablecloth is red.', 'The tablecloth has a checkered pattern.', 'There is a jar of pasta sauce.', 'The jar of pasta sauce is lying on a tablecloth.', 'The bottle has a front label.', 'The bottle contains a red sauce.', 'There is a can.', 'The can contains tomatoes.', 'The tomatoes are labeled as Cisco Favorite.']\n",
      "Recall TPs:\n",
      "['The bottle is on a tablecloth.', 'The tablecloth is red.', 'The tablecloth has a checkered pattern.']\n",
      "Recall FNs:\n",
      "['There is a bottle of tomato sauce.', 'The tablecloth has a checkered pattern.', 'There is a jar of pasta sauce.', 'The jar of pasta sauce is lying on a tablecloth.', 'The bottle has a front label.', 'The bottle contains a red sauce.', 'There is a can.', 'The can contains tomatoes.', 'The tomatoes are labeled as Cisco Favorite.']\n"
     ]
    },
    {
     "name": "stderr",
     "output_type": "stream",
     "text": [
      "100%|██████████| 4/4 [00:43<00:00, 10.84s/it]\n"
     ]
    },
    {
     "name": "stdout",
     "output_type": "stream",
     "text": [
      "Saved JSON to: results/2025-04-03_23-04/recall_precision_2025-04-03_23-04_chunk20.json\n"
     ]
    },
    {
     "name": "stderr",
     "output_type": "stream",
     "text": [
      "100%|██████████| 4/4 [00:00<00:00, 41527.76it/s]\n"
     ]
    },
    {
     "name": "stdout",
     "output_type": "stream",
     "text": [
      "Saved JSON to: results/2025-04-03_23-04/final_2025-04-03_23-04_chunk20.json\n"
     ]
    },
    {
     "name": "stderr",
     "output_type": "stream",
     "text": [
      "100%|██████████| 4/4 [00:42<00:00, 10.62s/it]\n"
     ]
    },
    {
     "name": "stdout",
     "output_type": "stream",
     "text": [
      "Saved JSON to: results/2025-04-03_23-04/recall_precision_2025-04-03_23-04_chunk28.json\n"
     ]
    },
    {
     "name": "stderr",
     "output_type": "stream",
     "text": [
      "100%|██████████| 4/4 [00:00<00:00, 40820.48it/s]\n"
     ]
    },
    {
     "name": "stdout",
     "output_type": "stream",
     "text": [
      "Saved JSON to: results/2025-04-03_23-04/final_2025-04-03_23-04_chunk28.json\n"
     ]
    },
    {
     "name": "stderr",
     "output_type": "stream",
     "text": [
      "100%|██████████| 4/4 [00:46<00:00, 11.65s/it]\n"
     ]
    },
    {
     "name": "stdout",
     "output_type": "stream",
     "text": [
      "Saved JSON to: results/2025-04-03_23-04/recall_precision_2025-04-03_23-04_chunk3.json\n"
     ]
    },
    {
     "name": "stderr",
     "output_type": "stream",
     "text": [
      "100%|██████████| 4/4 [00:00<00:00, 70197.56it/s]\n",
      "100%|██████████| 4/4 [00:43<00:00, 11.00s/it]"
     ]
    },
    {
     "name": "stdout",
     "output_type": "stream",
     "text": [
      "Saved JSON to: results/2025-04-03_23-04/final_2025-04-03_23-04_chunk3.json\n"
     ]
    },
    {
     "name": "stderr",
     "output_type": "stream",
     "text": [
      "\n"
     ]
    },
    {
     "name": "stdout",
     "output_type": "stream",
     "text": [
      "Saved JSON to: results/2025-04-03_23-04/recall_precision_2025-04-03_23-04_chunk14.json\n"
     ]
    },
    {
     "name": "stderr",
     "output_type": "stream",
     "text": [
      "100%|██████████| 4/4 [00:00<00:00, 37365.74it/s]\n"
     ]
    },
    {
     "name": "stdout",
     "output_type": "stream",
     "text": [
      "Saved JSON to: results/2025-04-03_23-04/final_2025-04-03_23-04_chunk14.json\n"
     ]
    },
    {
     "name": "stderr",
     "output_type": "stream",
     "text": [
      "100%|██████████| 4/4 [00:47<00:00, 11.87s/it]\n"
     ]
    },
    {
     "name": "stdout",
     "output_type": "stream",
     "text": [
      "Saved JSON to: results/2025-04-03_23-04/recall_precision_2025-04-03_23-04_chunk29.json\n"
     ]
    },
    {
     "name": "stderr",
     "output_type": "stream",
     "text": [
      "100%|██████████| 4/4 [00:00<00:00, 41527.76it/s]\n"
     ]
    },
    {
     "name": "stdout",
     "output_type": "stream",
     "text": [
      "Saved JSON to: results/2025-04-03_23-04/final_2025-04-03_23-04_chunk29.json\n"
     ]
    },
    {
     "name": "stderr",
     "output_type": "stream",
     "text": [
      "100%|██████████| 4/4 [00:43<00:00, 10.86s/it]\n"
     ]
    },
    {
     "name": "stdout",
     "output_type": "stream",
     "text": [
      "Saved JSON to: results/2025-04-03_23-04/recall_precision_2025-04-03_23-04_chunk13.json\n"
     ]
    },
    {
     "name": "stderr",
     "output_type": "stream",
     "text": [
      "100%|██████████| 4/4 [00:00<00:00, 41425.22it/s]\n"
     ]
    },
    {
     "name": "stdout",
     "output_type": "stream",
     "text": [
      "Saved JSON to: results/2025-04-03_23-04/final_2025-04-03_23-04_chunk13.json\n"
     ]
    },
    {
     "name": "stderr",
     "output_type": "stream",
     "text": [
      "100%|██████████| 4/4 [00:51<00:00, 12.85s/it]\n"
     ]
    },
    {
     "name": "stdout",
     "output_type": "stream",
     "text": [
      "Saved JSON to: results/2025-04-03_23-04/recall_precision_2025-04-03_23-04_chunk30.json\n"
     ]
    },
    {
     "name": "stderr",
     "output_type": "stream",
     "text": [
      "100%|██████████| 4/4 [00:00<00:00, 41943.04it/s]\n"
     ]
    },
    {
     "name": "stdout",
     "output_type": "stream",
     "text": [
      "Saved JSON to: results/2025-04-03_23-04/final_2025-04-03_23-04_chunk30.json\n"
     ]
    },
    {
     "name": "stderr",
     "output_type": "stream",
     "text": [
      "100%|██████████| 4/4 [00:46<00:00, 11.55s/it]\n"
     ]
    },
    {
     "name": "stdout",
     "output_type": "stream",
     "text": [
      "Saved JSON to: results/2025-04-03_23-04/recall_precision_2025-04-03_23-04_chunk12.json\n"
     ]
    },
    {
     "name": "stderr",
     "output_type": "stream",
     "text": [
      "100%|██████████| 4/4 [00:00<00:00, 77672.30it/s]\n"
     ]
    },
    {
     "name": "stdout",
     "output_type": "stream",
     "text": [
      "Saved JSON to: results/2025-04-03_23-04/final_2025-04-03_23-04_chunk12.json\n"
     ]
    },
    {
     "name": "stderr",
     "output_type": "stream",
     "text": [
      "100%|██████████| 4/4 [00:43<00:00, 10.91s/it]\n"
     ]
    },
    {
     "name": "stdout",
     "output_type": "stream",
     "text": [
      "Saved JSON to: results/2025-04-03_23-04/recall_precision_2025-04-03_23-04_chunk5.json\n"
     ]
    },
    {
     "name": "stderr",
     "output_type": "stream",
     "text": [
      "100%|██████████| 4/4 [00:00<00:00, 39756.44it/s]\n"
     ]
    },
    {
     "name": "stdout",
     "output_type": "stream",
     "text": [
      "Saved JSON to: results/2025-04-03_23-04/final_2025-04-03_23-04_chunk5.json\n"
     ]
    },
    {
     "name": "stderr",
     "output_type": "stream",
     "text": [
      "100%|██████████| 4/4 [00:42<00:00, 10.62s/it]\n"
     ]
    },
    {
     "name": "stdout",
     "output_type": "stream",
     "text": [
      "Saved JSON to: results/2025-04-03_23-04/recall_precision_2025-04-03_23-04_chunk8.json\n"
     ]
    },
    {
     "name": "stderr",
     "output_type": "stream",
     "text": [
      "100%|██████████| 4/4 [00:00<00:00, 40820.48it/s]\n",
      " 50%|█████     | 2/4 [00:27<00:27, 13.82s/it]"
     ]
    },
    {
     "name": "stdout",
     "output_type": "stream",
     "text": [
      "Saved JSON to: results/2025-04-03_23-04/final_2025-04-03_23-04_chunk8.json\n"
     ]
    },
    {
     "name": "stderr",
     "output_type": "stream",
     "text": [
      "100%|██████████| 4/4 [00:49<00:00, 12.29s/it]\n"
     ]
    },
    {
     "name": "stdout",
     "output_type": "stream",
     "text": [
      "Saved JSON to: results/2025-04-03_23-04/recall_precision_2025-04-03_23-04_chunk11.json\n"
     ]
    },
    {
     "name": "stderr",
     "output_type": "stream",
     "text": [
      "100%|██████████| 4/4 [00:00<00:00, 41527.76it/s]\n"
     ]
    },
    {
     "name": "stdout",
     "output_type": "stream",
     "text": [
      "Saved JSON to: results/2025-04-03_23-04/final_2025-04-03_23-04_chunk11.json\n"
     ]
    },
    {
     "name": "stderr",
     "output_type": "stream",
     "text": [
      "100%|██████████| 4/4 [00:43<00:00, 10.92s/it]\n"
     ]
    },
    {
     "name": "stdout",
     "output_type": "stream",
     "text": [
      "Saved JSON to: results/2025-04-03_23-04/recall_precision_2025-04-03_23-04_chunk4.json\n"
     ]
    },
    {
     "name": "stderr",
     "output_type": "stream",
     "text": [
      "100%|██████████| 4/4 [00:00<00:00, 40524.68it/s]\n"
     ]
    },
    {
     "name": "stdout",
     "output_type": "stream",
     "text": [
      "Saved JSON to: results/2025-04-03_23-04/final_2025-04-03_23-04_chunk4.json\n"
     ]
    },
    {
     "name": "stderr",
     "output_type": "stream",
     "text": [
      "100%|██████████| 4/4 [00:42<00:00, 10.71s/it]\n"
     ]
    },
    {
     "name": "stdout",
     "output_type": "stream",
     "text": [
      "Saved JSON to: results/2025-04-03_23-04/recall_precision_2025-04-03_23-04_chunk10.json\n"
     ]
    },
    {
     "name": "stderr",
     "output_type": "stream",
     "text": [
      "100%|██████████| 4/4 [00:00<00:00, 40041.09it/s]\n"
     ]
    },
    {
     "name": "stdout",
     "output_type": "stream",
     "text": [
      "Saved JSON to: results/2025-04-03_23-04/final_2025-04-03_23-04_chunk10.json\n"
     ]
    },
    {
     "name": "stderr",
     "output_type": "stream",
     "text": [
      "100%|██████████| 4/4 [00:48<00:00, 12.23s/it]\n"
     ]
    },
    {
     "name": "stdout",
     "output_type": "stream",
     "text": [
      "Saved JSON to: results/2025-04-03_23-04/recall_precision_2025-04-03_23-04_chunk16.json\n"
     ]
    },
    {
     "name": "stderr",
     "output_type": "stream",
     "text": [
      "100%|██████████| 4/4 [00:00<00:00, 39945.75it/s]\n"
     ]
    },
    {
     "name": "stdout",
     "output_type": "stream",
     "text": [
      "Error: Recall mismatch for model [Molmo-7B-O-0924]\n",
      "Saved JSON to: results/2025-04-03_23-04/final_2025-04-03_23-04_chunk16.jsonlength 16 vs 17\n",
      "\n",
      "T atomics:\n",
      "['There is an image.', 'There is a box of sandwiches.', 'There is a bag of food.', 'The box of sandwiches is on a fabric.', 'The bag of food is on a fabric.', 'There is an orange box.', 'The box has a label.', 'The label indicates some sort of food.', 'There is a business card.', 'The business card is to the left of the box.', 'There are two products.', 'The products are food.', 'The products are placed on a couch.', 'There are couches.', 'There are pillows on the couches.', 'There are bags on the couches.']\n",
      "Recall TPs:\n",
      "['There is a box of sandwiches.', 'The box of sandwiches is on a fabric.', 'There is a box.', 'The box has a label.']\n",
      "Recall FNs:\n",
      "['There is an image.', 'There is a bag of food.', 'The bag of food is on a fabric.', 'There is an orange box.', 'The label indicates some sort of food.', 'There is a business card.', 'The business card is to the left of the box.', 'There are two products.', 'The products are food.', 'The products are placed on a couch.', 'There are couches.', 'There are pillows on the couches.', 'There are bags on the couches.']\n"
     ]
    },
    {
     "name": "stderr",
     "output_type": "stream",
     "text": [
      "100%|██████████| 4/4 [00:45<00:00, 11.42s/it]\n"
     ]
    },
    {
     "name": "stdout",
     "output_type": "stream",
     "text": [
      "Saved JSON to: results/2025-04-03_23-04/recall_precision_2025-04-03_23-04_chunk31.json\n"
     ]
    },
    {
     "name": "stderr",
     "output_type": "stream",
     "text": [
      "100%|██████████| 4/4 [00:00<00:00, 86037.01it/s]\n"
     ]
    },
    {
     "name": "stdout",
     "output_type": "stream",
     "text": [
      "Saved JSON to: results/2025-04-03_23-04/final_2025-04-03_23-04_chunk31.json\n"
     ]
    },
    {
     "name": "stderr",
     "output_type": "stream",
     "text": [
      "100%|██████████| 4/4 [00:50<00:00, 12.54s/it]\n"
     ]
    },
    {
     "name": "stdout",
     "output_type": "stream",
     "text": [
      "Saved JSON to: results/2025-04-03_23-04/recall_precision_2025-04-03_23-04_chunk22.json\n"
     ]
    },
    {
     "name": "stderr",
     "output_type": "stream",
     "text": [
      "100%|██████████| 4/4 [00:00<00:00, 41527.76it/s]\n"
     ]
    },
    {
     "name": "stdout",
     "output_type": "stream",
     "text": [
      "Saved JSON to: results/2025-04-03_23-04/final_2025-04-03_23-04_chunk22.json\n"
     ]
    },
    {
     "name": "stderr",
     "output_type": "stream",
     "text": [
      "100%|██████████| 4/4 [00:51<00:00, 12.90s/it]\n"
     ]
    },
    {
     "name": "stdout",
     "output_type": "stream",
     "text": [
      "Saved JSON to: results/2025-04-03_23-04/recall_precision_2025-04-03_23-04_chunk6.json\n"
     ]
    },
    {
     "name": "stderr",
     "output_type": "stream",
     "text": [
      "100%|██████████| 4/4 [00:00<00:00, 41425.22it/s]\n"
     ]
    },
    {
     "name": "stdout",
     "output_type": "stream",
     "text": [
      "Saved JSON to: results/2025-04-03_23-04/final_2025-04-03_23-04_chunk6.json\n"
     ]
    },
    {
     "name": "stderr",
     "output_type": "stream",
     "text": [
      "100%|██████████| 4/4 [00:46<00:00, 11.69s/it]\n"
     ]
    },
    {
     "name": "stdout",
     "output_type": "stream",
     "text": [
      "Saved JSON to: results/2025-04-03_23-04/recall_precision_2025-04-03_23-04_chunk24.json\n"
     ]
    },
    {
     "name": "stderr",
     "output_type": "stream",
     "text": [
      "100%|██████████| 4/4 [00:00<00:00, 41221.66it/s]\n"
     ]
    },
    {
     "name": "stdout",
     "output_type": "stream",
     "text": [
      "Saved JSON to: results/2025-04-03_23-04/final_2025-04-03_23-04_chunk24.json\n"
     ]
    },
    {
     "name": "stderr",
     "output_type": "stream",
     "text": [
      "100%|██████████| 4/4 [00:50<00:00, 12.74s/it]\n"
     ]
    },
    {
     "name": "stdout",
     "output_type": "stream",
     "text": [
      "Saved JSON to: results/2025-04-03_23-04/recall_precision_2025-04-03_23-04_chunk25.json\n"
     ]
    },
    {
     "name": "stderr",
     "output_type": "stream",
     "text": [
      "100%|██████████| 4/4 [00:48<00:00, 12.05s/it]/s]\n",
      "\n"
     ]
    },
    {
     "name": "stdout",
     "output_type": "stream",
     "text": [
      "Saved JSON to: results/2025-04-03_23-04/recall_precision_2025-04-03_23-04_chunk26.jsonSaved JSON to: results/2025-04-03_23-04/final_2025-04-03_23-04_chunk25.json\n",
      "\n"
     ]
    },
    {
     "name": "stderr",
     "output_type": "stream",
     "text": [
      "100%|██████████| 4/4 [00:00<00:00, 65536.00it/s]\n"
     ]
    },
    {
     "name": "stdout",
     "output_type": "stream",
     "text": [
      "Saved JSON to: results/2025-04-03_23-04/final_2025-04-03_23-04_chunk26.json\n"
     ]
    },
    {
     "name": "stderr",
     "output_type": "stream",
     "text": [
      "100%|██████████| 4/4 [00:47<00:00, 11.94s/it]\n"
     ]
    },
    {
     "name": "stdout",
     "output_type": "stream",
     "text": [
      "Saved JSON to: results/2025-04-03_23-04/recall_precision_2025-04-03_23-04_chunk9.json\n"
     ]
    },
    {
     "name": "stderr",
     "output_type": "stream",
     "text": [
      "100%|██████████| 4/4 [00:00<00:00, 39662.45it/s]\n"
     ]
    },
    {
     "name": "stdout",
     "output_type": "stream",
     "text": [
      "Saved JSON to: results/2025-04-03_23-04/final_2025-04-03_23-04_chunk9.json\n"
     ]
    },
    {
     "name": "stderr",
     "output_type": "stream",
     "text": [
      "100%|██████████| 4/4 [00:51<00:00, 12.77s/it]\n"
     ]
    },
    {
     "name": "stdout",
     "output_type": "stream",
     "text": [
      "Saved JSON to: results/2025-04-03_23-04/recall_precision_2025-04-03_23-04_chunk18.json\n"
     ]
    },
    {
     "name": "stderr",
     "output_type": "stream",
     "text": [
      "100%|██████████| 4/4 [00:00<00:00, 41527.76it/s]\n"
     ]
    },
    {
     "name": "stdout",
     "output_type": "stream",
     "text": [
      "Saved JSON to: results/2025-04-03_23-04/final_2025-04-03_23-04_chunk18.json\n"
     ]
    },
    {
     "name": "stderr",
     "output_type": "stream",
     "text": [
      "100%|██████████| 4/4 [00:53<00:00, 13.31s/it]\n"
     ]
    },
    {
     "name": "stdout",
     "output_type": "stream",
     "text": [
      "Saved JSON to: results/2025-04-03_23-04/recall_precision_2025-04-03_23-04_chunk7.json\n"
     ]
    },
    {
     "name": "stderr",
     "output_type": "stream",
     "text": [
      "100%|██████████| 4/4 [00:00<00:00, 41527.76it/s]\n"
     ]
    },
    {
     "name": "stdout",
     "output_type": "stream",
     "text": [
      "Saved JSON to: results/2025-04-03_23-04/final_2025-04-03_23-04_chunk7.json\n"
     ]
    },
    {
     "name": "stderr",
     "output_type": "stream",
     "text": [
      "100%|██████████| 4/4 [00:48<00:00, 12.19s/it]\n"
     ]
    },
    {
     "name": "stdout",
     "output_type": "stream",
     "text": [
      "Saved JSON to: results/2025-04-03_23-04/recall_precision_2025-04-03_23-04_chunk1.json\n"
     ]
    },
    {
     "name": "stderr",
     "output_type": "stream",
     "text": [
      "100%|██████████| 4/4 [00:00<00:00, 41221.66it/s]\n"
     ]
    },
    {
     "name": "stdout",
     "output_type": "stream",
     "text": [
      "Saved JSON to: results/2025-04-03_23-04/final_2025-04-03_23-04_chunk1.json\n"
     ]
    },
    {
     "name": "stderr",
     "output_type": "stream",
     "text": [
      "100%|██████████| 4/4 [00:50<00:00, 12.68s/it]\n"
     ]
    },
    {
     "name": "stdout",
     "output_type": "stream",
     "text": [
      "Saved JSON to: results/2025-04-03_23-04/recall_precision_2025-04-03_23-04_chunk19.json\n"
     ]
    },
    {
     "name": "stderr",
     "output_type": "stream",
     "text": [
      "100%|██████████| 4/4 [00:00<00:00, 36954.22it/s]\n"
     ]
    },
    {
     "name": "stdout",
     "output_type": "stream",
     "text": [
      "Saved JSON to: results/2025-04-03_23-04/final_2025-04-03_23-04_chunk19.json\n"
     ]
    },
    {
     "name": "stderr",
     "output_type": "stream",
     "text": [
      "100%|██████████| 4/4 [00:47<00:00, 11.99s/it]\n"
     ]
    },
    {
     "name": "stdout",
     "output_type": "stream",
     "text": [
      "Saved JSON to: results/2025-04-03_23-04/recall_precision_2025-04-03_23-04_chunk2.json\n"
     ]
    },
    {
     "name": "stderr",
     "output_type": "stream",
     "text": [
      "100%|██████████| 4/4 [00:00<00:00, 41425.22it/s]\n"
     ]
    },
    {
     "name": "stdout",
     "output_type": "stream",
     "text": [
      "Saved JSON to: results/2025-04-03_23-04/final_2025-04-03_23-04_chunk2.json\n"
     ]
    },
    {
     "name": "stderr",
     "output_type": "stream",
     "text": [
      "100%|██████████| 4/4 [00:49<00:00, 12.41s/it]\n"
     ]
    },
    {
     "name": "stdout",
     "output_type": "stream",
     "text": [
      "Saved JSON to: results/2025-04-03_23-04/recall_precision_2025-04-03_23-04_chunk23.json\n"
     ]
    },
    {
     "name": "stderr",
     "output_type": "stream",
     "text": [
      "100%|██████████| 4/4 [00:55<00:00, 14.87s/it]/s]\n",
      "100%|██████████| 4/4 [00:55<00:00, 13.91s/it]\n"
     ]
    },
    {
     "name": "stdout",
     "output_type": "stream",
     "text": [
      "Saved JSON to: results/2025-04-03_23-04/recall_precision_2025-04-03_23-04_chunk15.json\n",
      "Saved JSON to: results/2025-04-03_23-04/final_2025-04-03_23-04_chunk23.json"
     ]
    },
    {
     "name": "stderr",
     "output_type": "stream",
     "text": [
      "  0%|          | 0/4 [00:00<?, ?it/s]"
     ]
    },
    {
     "name": "stdout",
     "output_type": "stream",
     "text": [
      "\n"
     ]
    },
    {
     "name": "stderr",
     "output_type": "stream",
     "text": [
      "100%|██████████| 4/4 [00:00<00:00, 36157.79it/s]\n"
     ]
    },
    {
     "name": "stdout",
     "output_type": "stream",
     "text": [
      "Saved JSON to: results/2025-04-03_23-04/final_2025-04-03_23-04_chunk15.json\n"
     ]
    },
    {
     "name": "stderr",
     "output_type": "stream",
     "text": [
      "100%|██████████| 4/4 [00:49<00:00, 12.30s/it]\n"
     ]
    },
    {
     "name": "stdout",
     "output_type": "stream",
     "text": [
      "Saved JSON to: results/2025-04-03_23-04/recall_precision_2025-04-03_23-04_chunk21.json\n"
     ]
    },
    {
     "name": "stderr",
     "output_type": "stream",
     "text": [
      "100%|██████████| 4/4 [00:00<00:00, 40329.85it/s]\n"
     ]
    },
    {
     "name": "stdout",
     "output_type": "stream",
     "text": [
      "Saved JSON to: results/2025-04-03_23-04/final_2025-04-03_23-04_chunk21.json\n"
     ]
    },
    {
     "name": "stderr",
     "output_type": "stream",
     "text": [
      "100%|██████████| 4/4 [00:53<00:00, 13.32s/it]\n"
     ]
    },
    {
     "name": "stdout",
     "output_type": "stream",
     "text": [
      "Saved JSON to: results/2025-04-03_23-04/recall_precision_2025-04-03_23-04_chunk0.json\n"
     ]
    },
    {
     "name": "stderr",
     "output_type": "stream",
     "text": [
      "100%|██████████| 4/4 [00:00<00:00, 86480.49it/s]\n"
     ]
    },
    {
     "name": "stdout",
     "output_type": "stream",
     "text": [
      "Saved JSON to: results/2025-04-03_23-04/final_2025-04-03_23-04_chunk0.json\n"
     ]
    },
    {
     "name": "stderr",
     "output_type": "stream",
     "text": [
      "100%|██████████| 4/4 [01:01<00:00, 15.44s/it]\n"
     ]
    },
    {
     "name": "stdout",
     "output_type": "stream",
     "text": [
      "Saved JSON to: results/2025-04-03_23-04/recall_precision_2025-04-03_23-04_chunk17.json\n"
     ]
    },
    {
     "name": "stderr",
     "output_type": "stream",
     "text": [
      "100%|██████████| 4/4 [00:00<00:00, 40329.85it/s]\n"
     ]
    },
    {
     "name": "stdout",
     "output_type": "stream",
     "text": [
      "Saved JSON to: results/2025-04-03_23-04/final_2025-04-03_23-04_chunk17.json\n"
     ]
    },
    {
     "name": "stderr",
     "output_type": "stream",
     "text": [
      "100%|██████████| 4/4 [00:52<00:00, 13.02s/it]\n"
     ]
    },
    {
     "name": "stdout",
     "output_type": "stream",
     "text": [
      "Saved JSON to: results/2025-04-03_23-04/recall_precision_2025-04-03_23-04_chunk27.json\n"
     ]
    },
    {
     "name": "stderr",
     "output_type": "stream",
     "text": [
      "100%|██████████| 4/4 [00:00<00:00, 41020.09it/s]\n"
     ]
    },
    {
     "name": "stdout",
     "output_type": "stream",
     "text": [
      "Saved JSON to: results/2025-04-03_23-04/final_2025-04-03_23-04_chunk27.json\n"
     ]
    }
   ],
   "source": [
    "# for filename\n",
    "now = datetime.now()\n",
    "timestamp = now.strftime(\"%Y-%m-%d_%H-%M\")\n",
    "\n",
    "#create folder to save the results\n",
    "folder_path = f\"results/{timestamp}\"\n",
    "os.makedirs(folder_path, exist_ok=True)\n",
    "\n",
    "run_parallel_processing(org_caption_dataset, all_human_captions, folder_path, timestamp, num_workers=32)"
   ]
  },
  {
   "cell_type": "code",
   "execution_count": 46,
   "metadata": {},
   "outputs": [
    {
     "name": "stdout",
     "output_type": "stream",
     "text": [
      "Merged 128 entries into results/2025-04-03_23-04/__final_2025-04-03_23-04_merged.json\n"
     ]
    }
   ],
   "source": [
    "\n",
    "def merge_json_chunks(output_file, file_pattern):\n",
    "    merged_data = []\n",
    "\n",
    "    for filename in sorted(glob.glob(file_pattern)):\n",
    "        with open(filename, \"r\", encoding=\"utf-8\") as f:\n",
    "            try:\n",
    "                data = json.load(f)\n",
    "                if isinstance(data, list):\n",
    "                    merged_data.extend(data)\n",
    "                elif isinstance(data, dict):\n",
    "                    merged_data.append(data)\n",
    "            except Exception as e:\n",
    "                print(f\"Failed to read {filename}: {e}\")\n",
    "\n",
    "    with open(output_file, \"w\", encoding=\"utf-8\") as out_f:\n",
    "        json.dump(merged_data, out_f, indent=2, ensure_ascii=False)\n",
    "\n",
    "    print(f\"Merged {len(merged_data)} entries into {output_file}\")\n",
    "\n",
    "merge_json_chunks(\n",
    "    output_file=f\"{folder_path}/__final_{timestamp}_merged.json\",\n",
    "    file_pattern=f\"{folder_path}/final_{timestamp}_chunk*.json\"\n",
    ")\n"
   ]
  },
  {
   "cell_type": "code",
   "execution_count": 49,
   "metadata": {},
   "outputs": [
    {
     "name": "stdout",
     "output_type": "stream",
     "text": [
      "CSV file saved to: results/2025-04-03_23-04/__final_2025-04-03_23-04_merged.csv\n"
     ]
    }
   ],
   "source": [
    "import json\n",
    "import csv\n",
    "\n",
    "json_path = f\"{folder_path}/__final_{timestamp}_merged.json\"\n",
    "csv_path = f\"{folder_path}/__final_{timestamp}_merged.csv\"\n",
    "\n",
    "with open(json_path, \"r\", encoding=\"utf-8\") as f:\n",
    "    data = json.load(f)\n",
    "\n",
    "fieldnames = [\n",
    "    \"image\",\n",
    "    \"link\",\n",
    "    \"T_atomics\",\n",
    "    \"gpt_caption\",\n",
    "    \"gpt_g_atomics\",\n",
    "    \"gpt_recall_TPs\",\n",
    "    \"gpt_recall_FNs\",\n",
    "    \"gpt_precision_TPs\",\n",
    "    \"gpt_precision_FPs\",\n",
    "    \"molmo_caption\",\n",
    "    \"molmo_g_atomics\",\n",
    "    \"molmo_recall_TPs\",\n",
    "    \"molmo_recall_FNs\",\n",
    "    \"molmo_precision_TPs\",\n",
    "    \"molmo_precision_FPs\",\n",
    "    \"llama_caption\",\n",
    "    \"llama_g_atomics\",\n",
    "    \"llama_recall_TPs\",\n",
    "    \"llama_recall_FNs\",\n",
    "    \"llama_precision_TPs\",\n",
    "    \"llama_precision_FPs\",\n",
    "    \"gpt_recall\",\n",
    "    \"gpt_precision\",\n",
    "    \"gpt_capf1\",\n",
    "    \"molmo_recall\",\n",
    "    \"molmo_precision\",\n",
    "    \"molmo_capf1\",\n",
    "    \"llama_recall\",\n",
    "    \"llama_precision\",\n",
    "    \"llama_capf1\",\n",
    "]\n",
    "\n",
    "with open(csv_path, \"w\", newline=\"\", encoding=\"utf-8\") as csvfile:\n",
    "    writer = csv.DictWriter(csvfile, fieldnames=fieldnames)\n",
    "    writer.writeheader()\n",
    "\n",
    "    for item in data:\n",
    "        file_name = item.get(\"file_name\", \"\")\n",
    "        cap_f1 = item.get(\"evaluation\", {}).get(\"cap_f1\", {})\n",
    "        scores = cap_f1.get(\"scores\", {})\n",
    "        metadata = cap_f1.get(\"metadata\", {})\n",
    "        t_atomics = cap_f1.get(\"T_atomics\", [])\n",
    "\n",
    "        model_keys = {\n",
    "            \"gpt\": \"gpt-4o-2024-08-06\",\n",
    "            \"molmo\": \"Molmo-7B-O-0924\",\n",
    "            \"llama\": \"Llama-3.2-11B-Vision-Instruct\",\n",
    "        }\n",
    "\n",
    "        row = {\n",
    "            \"image\": file_name,\n",
    "            \"link\": f'=HYPERLINK(\"https://vizwiz.cs.colorado.edu/VizWiz_visualization_img/{file_name}\", \"{file_name}\")',\n",
    "            \"T_atomics\": \"\\n\".join(t_atomics),\n",
    "            \"gpt_caption\": item[\"model_captions\"][0][\"caption\"],\n",
    "            \"gpt_g_atomics\": \"\",\n",
    "            \"gpt_recall_TPs\": \"\",\n",
    "            \"gpt_precision_TPs\": \"\",\n",
    "            \"molmo_caption\": item[\"model_captions\"][2][\"caption\"],\n",
    "            \"molmo_g_atomics\": \"\",\n",
    "            \"molmo_recall_TPs\": \"\",\n",
    "            \"molmo_precision_TPs\": \"\",\n",
    "            \"llama_caption\": item[\"model_captions\"][1][\"caption\"],\n",
    "            \"llama_g_atomics\": \"\",\n",
    "            \"llama_recall_TPs\": \"\",\n",
    "            \"llama_precision_TPs\": \"\",\n",
    "            \"gpt_recall\": scores.get(model_keys[\"gpt\"], {}).get(\"recall\"),\n",
    "            \"gpt_precision\": scores.get(model_keys[\"gpt\"], {}).get(\"precision\"),\n",
    "            \"gpt_capf1\": scores.get(model_keys[\"gpt\"], {}).get(\"cap_f1\"),\n",
    "            \"molmo_recall\": scores.get(model_keys[\"molmo\"], {}).get(\"recall\"),\n",
    "            \"molmo_precision\": scores.get(model_keys[\"molmo\"], {}).get(\"precision\"),\n",
    "            \"molmo_capf1\": scores.get(model_keys[\"molmo\"], {}).get(\"cap_f1\"),\n",
    "            \"llama_recall\": scores.get(model_keys[\"llama\"], {}).get(\"recall\"),\n",
    "            \"llama_precision\": scores.get(model_keys[\"llama\"], {}).get(\"precision\"),\n",
    "            \"llama_capf1\": scores.get(model_keys[\"llama\"], {}).get(\"cap_f1\"),\n",
    "        }\n",
    "\n",
    "        for short_name, model_key in model_keys.items():\n",
    "            # g_atomics\n",
    "            g_atomics_list = cap_f1.get(\"g_atomics\", {}).get(model_key, [])\n",
    "            row[f\"{short_name}_g_atomics\"] = \"\\n\".join(g_atomics_list)\n",
    "\n",
    "            # recall TPs\n",
    "            recall_tps = metadata.get(model_key, {}).get(\"recall\", {}).get(\"TPs\", [])\n",
    "            row[f\"{short_name}_recall_TPs\"] = \"\\n\".join(recall_tps)\n",
    "\n",
    "            # recall FNs\n",
    "            recall_fns = metadata.get(model_key, {}).get(\"recall\", {}).get(\"FNs\", [])\n",
    "            row[f\"{short_name}_recall_FNs\"] = \"\\n\".join(recall_fns)\n",
    "\n",
    "            # precision TPs\n",
    "            precision_tps = (\n",
    "                metadata.get(model_key, {}).get(\"precision\", {}).get(\"TPs\", [])\n",
    "            )\n",
    "            row[f\"{short_name}_precision_TPs\"] = \"\\n\".join(precision_tps)\n",
    "\n",
    "            # precision FPs\n",
    "            precision_fps = (\n",
    "                metadata.get(model_key, {}).get(\"precision\", {}).get(\"FPs\", [])\n",
    "            )\n",
    "            row[f\"{short_name}_precision_FPs\"] = \"\\n\".join(precision_fps)\n",
    "\n",
    "        writer.writerow(row)\n",
    "\n",
    "print(f\"CSV file saved to: {csv_path}\")"
   ]
  }
 ],
 "metadata": {
  "kernelspec": {
   "display_name": "lic",
   "language": "python",
   "name": "python3"
  },
  "language_info": {
   "codemirror_mode": {
    "name": "ipython",
    "version": 3
   },
   "file_extension": ".py",
   "mimetype": "text/x-python",
   "name": "python",
   "nbconvert_exporter": "python",
   "pygments_lexer": "ipython3",
   "version": "3.10.16"
  }
 },
 "nbformat": 4,
 "nbformat_minor": 2
}
